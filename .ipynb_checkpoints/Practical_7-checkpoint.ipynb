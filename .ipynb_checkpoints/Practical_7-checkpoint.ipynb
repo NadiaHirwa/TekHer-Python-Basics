{
 "cells": [
  {
   "cell_type": "markdown",
   "id": "9192d439",
   "metadata": {},
   "source": [
    "# Practical_7: Matplotlib"
   ]
  },
  {
   "cell_type": "markdown",
   "id": "47b4e3a5",
   "metadata": {},
   "source": [
    "\n",
    "---\n",
    "\n",
    "### Exercise 1:\n",
    "Create a simple line plot for `y = x` for `x` values ranging from 0 to 10.\n"
   ]
  },
  {
   "cell_type": "code",
   "execution_count": null,
   "id": "39131880",
   "metadata": {},
   "outputs": [],
   "source": [
    "# Exercise 1"
   ]
  },
  {
   "cell_type": "markdown",
   "id": "21a59127",
   "metadata": {},
   "source": [
    "\n",
    "---\n",
    "\n",
    "### Exercise 2:\n",
    "Plot `y = x^2` using Matplotlib for `x` values between -10 and 10.\n"
   ]
  },
  {
   "cell_type": "code",
   "execution_count": null,
   "id": "dd80057f",
   "metadata": {},
   "outputs": [],
   "source": [
    "# Exercise 2"
   ]
  },
  {
   "cell_type": "markdown",
   "id": "4af37448",
   "metadata": {},
   "source": [
    "\n",
    "---\n",
    "\n",
    "### Exercise 3:\n",
    "Create a scatter plot with 50 random points where x and y values are between 0 and 10.\n"
   ]
  },
  {
   "cell_type": "code",
   "execution_count": null,
   "id": "c1174bf3",
   "metadata": {},
   "outputs": [],
   "source": [
    "# Exercise 3"
   ]
  },
  {
   "cell_type": "markdown",
   "id": "408c2cf9",
   "metadata": {},
   "source": [
    "\n",
    "---\n",
    "\n",
    "### Exercise 4:\n",
    "Plot a sine wave using Matplotlib for `x` values between 0 and 2π.\n"
   ]
  },
  {
   "cell_type": "code",
   "execution_count": null,
   "id": "b1c0b9e3",
   "metadata": {},
   "outputs": [],
   "source": [
    "# Exercise 4"
   ]
  },
  {
   "cell_type": "markdown",
   "id": "cb4d4a00",
   "metadata": {},
   "source": [
    "\n",
    "---\n",
    "\n",
    "### Exercise 5:\n",
    "Create a bar chart for the following data: `categories = ['A', 'B', 'C', 'D']` and `values = [3, 7, 5, 9]`.\n"
   ]
  },
  {
   "cell_type": "code",
   "execution_count": null,
   "id": "1919c119",
   "metadata": {},
   "outputs": [],
   "source": [
    "# Exercise 5"
   ]
  },
  {
   "cell_type": "markdown",
   "id": "8c738883",
   "metadata": {},
   "source": [
    "\n",
    "---\n",
    "\n",
    "### Exercise 6:\n",
    "Create a histogram of 1000 random numbers generated from a normal distribution.\n"
   ]
  },
  {
   "cell_type": "code",
   "execution_count": null,
   "id": "f89ed3d1",
   "metadata": {},
   "outputs": [],
   "source": [
    "# Exercise 6"
   ]
  },
  {
   "cell_type": "markdown",
   "id": "51262ae7",
   "metadata": {},
   "source": [
    "\n",
    "---\n",
    "\n",
    "### Exercise 7:\n",
    "Plot two line plots on the same graph: `y1 = x^2` and `y2 = x^3` for `x` ranging from 0 to 10.\n"
   ]
  },
  {
   "cell_type": "code",
   "execution_count": null,
   "id": "6ad973b6",
   "metadata": {},
   "outputs": [],
   "source": [
    "# Exercise 7"
   ]
  },
  {
   "cell_type": "markdown",
   "id": "89390025",
   "metadata": {},
   "source": [
    "\n",
    "---\n",
    "\n",
    "### Exercise 8:\n",
    "Add titles, axis labels, and a legend to the plot in Exercise 7.\n"
   ]
  },
  {
   "cell_type": "code",
   "execution_count": null,
   "id": "a1a220cf",
   "metadata": {},
   "outputs": [],
   "source": [
    "# Exercise 8"
   ]
  },
  {
   "cell_type": "markdown",
   "id": "cc078a8b",
   "metadata": {},
   "source": [
    "\n",
    "---\n",
    "\n",
    "### Exercise 9:\n",
    "Create a subplot with 2 rows and 1 column. Plot `y1 = x^2` in the first subplot and `y2 = x^3` in the second.\n"
   ]
  },
  {
   "cell_type": "code",
   "execution_count": null,
   "id": "014b79dc",
   "metadata": {},
   "outputs": [],
   "source": [
    "# Exercise 9"
   ]
  },
  {
   "cell_type": "markdown",
   "id": "c92fdbb9",
   "metadata": {},
   "source": [
    "\n",
    "---\n",
    "\n",
    "### Exercise 10:\n",
    "Use a different color and linestyle for each line in a plot of three functions: `y1 = x`, `y2 = x^2`, and `y3 = x^3`.\n"
   ]
  },
  {
   "cell_type": "code",
   "execution_count": null,
   "id": "605a1763",
   "metadata": {},
   "outputs": [],
   "source": [
    "# Exercise 10"
   ]
  },
  {
   "cell_type": "markdown",
   "id": "7e5330ef",
   "metadata": {},
   "source": [
    "\n",
    "---\n",
    "\n",
    "### Exercise 11:\n",
    "Create a pie chart with 5 segments labeled A, B, C, D, and E, with values `[25, 35, 20, 15, 5]`.\n"
   ]
  },
  {
   "cell_type": "code",
   "execution_count": null,
   "id": "06fc54ee",
   "metadata": {},
   "outputs": [],
   "source": [
    "# Exercise 11"
   ]
  },
  {
   "cell_type": "markdown",
   "id": "2797c6a3",
   "metadata": {},
   "source": [
    "\n",
    "---\n",
    "\n",
    "### Exercise 12:\n",
    "Create a horizontal bar chart with `categories = ['A', 'B', 'C', 'D']` and `values = [3, 7, 5, 9]`.\n"
   ]
  },
  {
   "cell_type": "code",
   "execution_count": null,
   "id": "77343cad",
   "metadata": {},
   "outputs": [],
   "source": [
    "# Exercise 12"
   ]
  },
  {
   "cell_type": "markdown",
   "id": "68307329",
   "metadata": {},
   "source": [
    "\n",
    "---\n",
    "\n",
    "### Exercise 13:\n",
    "Change the figure size of a line plot to 10x6 inches.\n"
   ]
  },
  {
   "cell_type": "code",
   "execution_count": null,
   "id": "423b82b6",
   "metadata": {},
   "outputs": [],
   "source": [
    "# Exercise 13"
   ]
  },
  {
   "cell_type": "markdown",
   "id": "292b5d13",
   "metadata": {},
   "source": [
    "\n",
    "---\n",
    "\n",
    "### Exercise 14:\n",
    "Plot a filled area under the curve of `y = x^2` for `x` ranging from 0 to 10.\n"
   ]
  },
  {
   "cell_type": "code",
   "execution_count": null,
   "id": "383ad19f",
   "metadata": {},
   "outputs": [],
   "source": [
    "# Exercise 14"
   ]
  },
  {
   "cell_type": "markdown",
   "id": "873f2c20",
   "metadata": {},
   "source": [
    "\n",
    "---\n",
    "\n",
    "### Exercise 15:\n",
    "Change the style of the plot to `ggplot` and replot the sine wave from Exercise 4.\n"
   ]
  },
  {
   "cell_type": "code",
   "execution_count": null,
   "id": "46a1916e",
   "metadata": {},
   "outputs": [],
   "source": [
    "# Exercise 15"
   ]
  },
  {
   "cell_type": "markdown",
   "id": "3800b3f9",
   "metadata": {},
   "source": [
    "\n",
    "---\n",
    "\n",
    "### Exercise 16:\n",
    "Create a stacked bar chart for the following data: `Group A = [3, 5, 7]`, `Group B = [2, 6, 4]`, and `categories = ['X', 'Y', 'Z']`.\n"
   ]
  },
  {
   "cell_type": "code",
   "execution_count": null,
   "id": "e12cd966",
   "metadata": {},
   "outputs": [],
   "source": [
    "# Exercise 16"
   ]
  },
  {
   "cell_type": "markdown",
   "id": "b1ddd78e",
   "metadata": {},
   "source": [
    "\n",
    "---\n",
    "\n",
    "### Exercise 17:\n",
    "Create a plot with multiple subplots in a 2x2 grid. Plot `y1 = x`, `y2 = x^2`, `y3 = x^3`, and `y4 = x^4`.\n"
   ]
  },
  {
   "cell_type": "code",
   "execution_count": null,
   "id": "b7c06f92",
   "metadata": {},
   "outputs": [],
   "source": [
    "# Exercise 17"
   ]
  },
  {
   "cell_type": "markdown",
   "id": "613b67f2",
   "metadata": {},
   "source": [
    "\n",
    "---\n",
    "\n",
    "### Exercise 18:\n",
    "Create a heatmap using a 2D array of random values with shape (5, 5).\n"
   ]
  },
  {
   "cell_type": "code",
   "execution_count": null,
   "id": "7ee6b7bb",
   "metadata": {},
   "outputs": [],
   "source": [
    "# Exercise 18"
   ]
  },
  {
   "cell_type": "markdown",
   "id": "e2b42ea2",
   "metadata": {},
   "source": [
    "\n",
    "---\n",
    "\n",
    "### Exercise 19:\n",
    "Add error bars to a bar plot with `categories = ['A', 'B', 'C', 'D']` and `values = [3, 7, 5, 9]`, assuming the error is 1 for each value.\n"
   ]
  },
  {
   "cell_type": "code",
   "execution_count": null,
   "id": "9e59dc8c",
   "metadata": {},
   "outputs": [],
   "source": [
    "# Exercise 19"
   ]
  },
  {
   "cell_type": "markdown",
   "id": "9e36e8fd",
   "metadata": {},
   "source": [
    "\n",
    "---\n",
    "\n",
    "### Exercise 20:\n",
    "Plot a sine wave using a dashed line and a cosine wave using a solid line on the same plot.\n"
   ]
  },
  {
   "cell_type": "code",
   "execution_count": null,
   "id": "00848cfc",
   "metadata": {},
   "outputs": [],
   "source": [
    "# Exercise 20"
   ]
  },
  {
   "cell_type": "markdown",
   "id": "42ea6f23",
   "metadata": {},
   "source": [
    "\n",
    "---\n",
    "\n",
    "### Exercise 21:\n",
    "Plot a contour plot for the function `z = sin(x) + cos(y)` over a grid of `x` and `y` values ranging from -5 to 5.\n"
   ]
  },
  {
   "cell_type": "code",
   "execution_count": null,
   "id": "1483c05d",
   "metadata": {},
   "outputs": [],
   "source": [
    "# Exercise 21"
   ]
  },
  {
   "cell_type": "markdown",
   "id": "946de995",
   "metadata": {},
   "source": [
    "\n",
    "---\n",
    "\n",
    "### Exercise 22:\n",
    "Create a box plot for a dataset generated with 100 random numbers from a normal distribution.\n"
   ]
  },
  {
   "cell_type": "code",
   "execution_count": null,
   "id": "ae6b6488",
   "metadata": {},
   "outputs": [],
   "source": [
    "# Exercise 22"
   ]
  },
  {
   "cell_type": "markdown",
   "id": "fe286b2b",
   "metadata": {},
   "source": [
    "\n",
    "---\n",
    "\n",
    "### Exercise 23:\n",
    "Create a scatter plot with a color map applied to the points, where the color represents the value of the points.\n"
   ]
  },
  {
   "cell_type": "code",
   "execution_count": null,
   "id": "b6172065",
   "metadata": {},
   "outputs": [],
   "source": [
    "# Exercise 23"
   ]
  },
  {
   "cell_type": "markdown",
   "id": "efa87d3b",
   "metadata": {},
   "source": [
    "\n",
    "---\n",
    "\n",
    "### Exercise 24:\n",
    "Use Matplotlib to display an image from a file.\n"
   ]
  },
  {
   "cell_type": "code",
   "execution_count": null,
   "id": "a055be2f",
   "metadata": {},
   "outputs": [],
   "source": [
    "# Exercise 24"
   ]
  },
  {
   "cell_type": "markdown",
   "id": "e0a83089",
   "metadata": {},
   "source": [
    "\n",
    "---\n",
    "\n",
    "### Exercise 25:\n",
    "Create a plot with logarithmic scaling on both axes.\n"
   ]
  },
  {
   "cell_type": "code",
   "execution_count": null,
   "id": "104103a8",
   "metadata": {},
   "outputs": [],
   "source": [
    "# Exercise 25"
   ]
  },
  {
   "cell_type": "markdown",
   "id": "c166f13f",
   "metadata": {},
   "source": [
    "\n",
    "---\n",
    "\n",
    "### Exercise 26:\n",
    "Create a 3D plot of the function `z = x^2 + y^2` over a grid of `x` and `y` values.\n"
   ]
  },
  {
   "cell_type": "code",
   "execution_count": null,
   "id": "1af4e35d",
   "metadata": {},
   "outputs": [],
   "source": [
    "# Exercise 26"
   ]
  },
  {
   "cell_type": "markdown",
   "id": "f5da81ab",
   "metadata": {},
   "source": [
    "\n",
    "---\n",
    "\n",
    "### Exercise 27:\n",
    "Create a radar chart with 5 variables and random values between 0 and 1.\n"
   ]
  },
  {
   "cell_type": "code",
   "execution_count": null,
   "id": "b2db24ee",
   "metadata": {},
   "outputs": [],
   "source": [
    "# Exercise 27"
   ]
  },
  {
   "cell_type": "markdown",
   "id": "864527a6",
   "metadata": {},
   "source": [
    "\n",
    "---\n",
    "\n",
    "### Exercise 28:\n",
    "Create a violin plot to show the distribution of a dataset generated with 1000 random numbers from a normal distribution.\n"
   ]
  },
  {
   "cell_type": "code",
   "execution_count": null,
   "id": "940c9e82",
   "metadata": {},
   "outputs": [],
   "source": [
    "# Exercise 28"
   ]
  },
  {
   "cell_type": "markdown",
   "id": "a880935f",
   "metadata": {},
   "source": [
    "\n",
    "---\n",
    "\n",
    "### Exercise 29:\n",
    "Create a bar chart with different colors for each bar.\n"
   ]
  },
  {
   "cell_type": "code",
   "execution_count": null,
   "id": "6929dc44",
   "metadata": {},
   "outputs": [],
   "source": [
    "# Exercise 29"
   ]
  },
  {
   "cell_type": "markdown",
   "id": "ec1ef4ad",
   "metadata": {},
   "source": [
    "\n",
    "---\n",
    "\n",
    "### Exercise 30:\n",
    "Create a stem plot for the function `y = sin(x)` for `x` values between 0 and 2π.\n"
   ]
  },
  {
   "cell_type": "code",
   "execution_count": null,
   "id": "c0f7768e",
   "metadata": {},
   "outputs": [],
   "source": [
    "# Exercise 30"
   ]
  },
  {
   "cell_type": "markdown",
   "id": "41af8e3c",
   "metadata": {},
   "source": [
    "\n",
    "---\n",
    "\n",
    "### Exercise 31:\n",
    "Create a scatter plot with markers of different sizes.\n"
   ]
  },
  {
   "cell_type": "code",
   "execution_count": null,
   "id": "fda55043",
   "metadata": {},
   "outputs": [],
   "source": [
    "# Exercise 31"
   ]
  },
  {
   "cell_type": "markdown",
   "id": "3ceff453",
   "metadata": {},
   "source": [
    "\n",
    "---\n",
    "\n",
    "### Exercise 32:\n",
    "Plot a cumulative histogram of 1000 random numbers generated from a uniform distribution.\n"
   ]
  },
  {
   "cell_type": "code",
   "execution_count": null,
   "id": "62e98b9e",
   "metadata": {},
   "outputs": [],
   "source": [
    "# Exercise 32"
   ]
  },
  {
   "cell_type": "markdown",
   "id": "ccac407d",
   "metadata": {},
   "source": [
    "\n",
    "---\n",
    "\n",
    "### Exercise 33:\n",
    "Create a pie chart with custom colors for each segment.\n"
   ]
  },
  {
   "cell_type": "code",
   "execution_count": null,
   "id": "a31d281b",
   "metadata": {},
   "outputs": [],
   "source": [
    "# Exercise 33"
   ]
  },
  {
   "cell_type": "markdown",
   "id": "d21133dc",
   "metadata": {},
   "source": [
    "\n",
    "---\n",
    "\n",
    "### Exercise 34:\n",
    "Create a plot with twin y-axes where one axis represents `y = x` and the other represents `y = x^2`.\n"
   ]
  },
  {
   "cell_type": "code",
   "execution_count": null,
   "id": "b3986fe4",
   "metadata": {},
   "outputs": [],
   "source": [
    "# Exercise 34"
   ]
  },
  {
   "cell_type": "markdown",
   "id": "ac0e4092",
   "metadata": {},
   "source": [
    "\n",
    "---\n",
    "\n",
    "### Exercise 35:\n",
    "Plot a density plot of 1000 random values from a normal distribution.\n"
   ]
  },
  {
   "cell_type": "code",
   "execution_count": null,
   "id": "fc4a0bf9",
   "metadata": {},
   "outputs": [],
   "source": [
    "# Exercise 35"
   ]
  },
  {
   "cell_type": "markdown",
   "id": "f214a306",
   "metadata": {},
   "source": [
    "\n",
    "---\n",
    "\n",
    "### Exercise 36:\n",
    "Create a histogram and add a kernel density estimate (KDE) to the plot.\n"
   ]
  },
  {
   "cell_type": "code",
   "execution_count": null,
   "id": "aab13c6b",
   "metadata": {},
   "outputs": [],
   "source": [
    "# Exercise 36"
   ]
  },
  {
   "cell_type": "markdown",
   "id": "b12fcb7a",
   "metadata": {},
   "source": [
    "\n",
    "---\n",
    "\n",
    "### Exercise 37:\n",
    "Add gridlines to a line plot and change the color and linestyle of the grid.\n"
   ]
  },
  {
   "cell_type": "code",
   "execution_count": null,
   "id": "e18bdbc4",
   "metadata": {},
   "outputs": [],
   "source": [
    "# Exercise 37"
   ]
  },
  {
   "cell_type": "markdown",
   "id": "e1f2ad9a",
   "metadata": {},
   "source": [
    "\n",
    "---\n",
    "\n",
    "### Exercise 38:\n",
    "Create a bar chart with annotations showing the height of each bar above the bar.\n"
   ]
  },
  {
   "cell_type": "code",
   "execution_count": null,
   "id": "3e0cd66b",
   "metadata": {},
   "outputs": [],
   "source": [
    "# Exercise 38"
   ]
  },
  {
   "cell_type": "markdown",
   "id": "3619b8f7",
   "metadata": {},
   "source": [
    "\n",
    "---\n",
    "\n",
    "### Exercise 39:\n",
    "Create a filled contour plot for the function `z = x^2 + y^2` over a grid of `x` and `y` values.\n"
   ]
  },
  {
   "cell_type": "code",
   "execution_count": null,
   "id": "9092eb3a",
   "metadata": {},
   "outputs": [],
   "source": [
    "# Exercise 39"
   ]
  },
  {
   "cell_type": "markdown",
   "id": "f56b56a8",
   "metadata": {},
   "source": [
    "\n",
    "---\n",
    "\n",
    "### Exercise 40:\n",
    "Create a stacked area plot using three random datasets.\n"
   ]
  },
  {
   "cell_type": "code",
   "execution_count": null,
   "id": "5daf2ff8",
   "metadata": {},
   "outputs": [],
   "source": [
    "# Exercise 40"
   ]
  },
  {
   "cell_type": "markdown",
   "id": "90ab22e5",
   "metadata": {},
   "source": [
    "\n",
    "---\n",
    "\n",
    "### Exercise 41:\n",
    "Create a bar chart with error bars, where the error values are proportional to the bar values.\n"
   ]
  },
  {
   "cell_type": "code",
   "execution_count": null,
   "id": "0b8f7176",
   "metadata": {},
   "outputs": [],
   "source": [
    "# Exercise 41"
   ]
  },
  {
   "cell_type": "markdown",
   "id": "7ea13e65",
   "metadata": {},
   "source": [
    "\n",
    "---\n",
    "\n",
    "### Exercise 42:\n",
    "Create a wind rose chart using random wind direction and speed data.\n"
   ]
  },
  {
   "cell_type": "code",
   "execution_count": null,
   "id": "0200842f",
   "metadata": {},
   "outputs": [],
   "source": [
    "# Exercise 42"
   ]
  },
  {
   "cell_type": "markdown",
   "id": "19ce7d26",
   "metadata": {},
   "source": [
    "\n",
    "---\n",
    "\n",
    "### Exercise 43:\n",
    "Plot a cumulative frequency curve for a dataset of 100 random numbers.\n"
   ]
  },
  {
   "cell_type": "code",
   "execution_count": null,
   "id": "c7958288",
   "metadata": {},
   "outputs": [],
   "source": [
    "# Exercise 43"
   ]
  },
  {
   "cell_type": "markdown",
   "id": "5aa7d8b2",
   "metadata": {},
   "source": [
    "\n",
    "---\n",
    "\n",
    "### Exercise 44:\n",
    "Create a waterfall chart using Matplotlib to show the changes in a sequence of values.\n"
   ]
  },
  {
   "cell_type": "code",
   "execution_count": null,
   "id": "0da24dc6",
   "metadata": {},
   "outputs": [],
   "source": [
    "# Exercise 44"
   ]
  },
  {
   "cell_type": "markdown",
   "id": "1b8f704a",
   "metadata": {},
   "source": [
    "\n",
    "---\n",
    "\n",
    "### Exercise 45:\n",
    "Use the `imshow` function to display a 10x10 matrix of random values as an image.\n"
   ]
  },
  {
   "cell_type": "code",
   "execution_count": null,
   "id": "5748dae6",
   "metadata": {},
   "outputs": [],
   "source": [
    "# Exercise 45"
   ]
  },
  {
   "cell_type": "markdown",
   "id": "8874d2ec",
   "metadata": {},
   "source": [
    "\n",
    "---\n",
    "\n",
    "### Exercise 46:\n",
    "Create a line plot with different markers for each point.\n"
   ]
  },
  {
   "cell_type": "code",
   "execution_count": null,
   "id": "7944801b",
   "metadata": {},
   "outputs": [],
   "source": [
    "# Exercise 46"
   ]
  },
  {
   "cell_type": "markdown",
   "id": "9f4d769a",
   "metadata": {},
   "source": [
    "\n",
    "---\n",
    "\n",
    "### Exercise 47:\n",
    "Create a time series plot using Matplotlib and plot random data over a range of dates.\n"
   ]
  },
  {
   "cell_type": "code",
   "execution_count": null,
   "id": "3f5218d6",
   "metadata": {},
   "outputs": [],
   "source": [
    "# Exercise 47"
   ]
  },
  {
   "cell_type": "markdown",
   "id": "740a9ee7",
   "metadata": {},
   "source": [
    "\n",
    "---\n",
    "\n",
    "### Exercise 48:\n",
    "Create a bar chart with bars colored by category.\n"
   ]
  },
  {
   "cell_type": "code",
   "execution_count": null,
   "id": "07b740ba",
   "metadata": {},
   "outputs": [],
   "source": [
    "# Exercise 48"
   ]
  },
  {
   "cell_type": "markdown",
   "id": "ace664c5",
   "metadata": {},
   "source": [
    "\n",
    "---\n",
    "\n",
    "### Exercise 49:\n",
    "Create a radar chart to visualize the strengths of five different attributes.\n"
   ]
  },
  {
   "cell_type": "code",
   "execution_count": null,
   "id": "473f1772",
   "metadata": {},
   "outputs": [],
   "source": [
    "# Exercise 49"
   ]
  },
  {
   "cell_type": "markdown",
   "id": "8e6229e1",
   "metadata": {},
   "source": [
    "\n",
    "---\n",
    "\n",
    "### Exercise 50:\n",
    "Create a 3D scatter plot with random values for x, y, and z.\n"
   ]
  },
  {
   "cell_type": "code",
   "execution_count": null,
   "id": "e5b9c7e6",
   "metadata": {},
   "outputs": [],
   "source": [
    "# Exercise 50"
   ]
  },
  {
   "cell_type": "markdown",
   "id": "4d1da1c9",
   "metadata": {},
   "source": [
    "\n",
    "---\n"
   ]
  },
  {
   "cell_type": "code",
   "execution_count": null,
   "id": "8e71d4f0",
   "metadata": {},
   "outputs": [],
   "source": []
  }
 ],
 "metadata": {
  "kernelspec": {
   "display_name": "Python 3 (ipykernel)",
   "language": "python",
   "name": "python3"
  },
  "language_info": {
   "codemirror_mode": {
    "name": "ipython",
    "version": 3
   },
   "file_extension": ".py",
   "mimetype": "text/x-python",
   "name": "python",
   "nbconvert_exporter": "python",
   "pygments_lexer": "ipython3",
   "version": "3.12.4"
  }
 },
 "nbformat": 4,
 "nbformat_minor": 5
}
