{
 "cells": [
  {
   "cell_type": "markdown",
   "id": "9fd00cef",
   "metadata": {},
   "source": [
    "# Practical_4: Flow control"
   ]
  },
  {
   "cell_type": "markdown",
   "id": "497af3a0",
   "metadata": {},
   "source": [
    "\n",
    "\n",
    "---\n",
    "\n",
    "### Exercise 1:\n",
    "Write a Python program that checks if a number is positive or negative.\n"
   ]
  },
  {
   "cell_type": "code",
   "execution_count": 2,
   "id": "4525d7b1",
   "metadata": {},
   "outputs": [
    {
     "name": "stdin",
     "output_type": "stream",
     "text": [
      "Enter a number:  67\n"
     ]
    },
    {
     "name": "stdout",
     "output_type": "stream",
     "text": [
      "positive number\n"
     ]
    }
   ],
   "source": [
    "# Exercise 1\n",
    "def check_number(num):\n",
    "    if num >= 0:\n",
    "        print(\"positive number\")\n",
    "    else:\n",
    "        print(\"negative\")\n",
    "\n",
    "number = float(input(\"Enter a number: \"))\n",
    "check_number(number)"
   ]
  },
  {
   "cell_type": "markdown",
   "id": "289c0fec",
   "metadata": {},
   "source": [
    "\n",
    "---\n",
    "\n",
    "### Exercise 2:\n",
    "Write a Python function that checks if a string starts with a vowel.\n"
   ]
  },
  {
   "cell_type": "code",
   "execution_count": 4,
   "id": "3adbe475",
   "metadata": {},
   "outputs": [
    {
     "name": "stdin",
     "output_type": "stream",
     "text": [
      "enter word:  Nadia\n"
     ]
    },
    {
     "name": "stdout",
     "output_type": "stream",
     "text": [
      "Does not start with a vowel\n"
     ]
    }
   ],
   "source": [
    "# Exercise 2\n",
    "def starts_with_vowel(s):\n",
    "    if s and s[0].lower() in 'aeiou':\n",
    "        print(\"Starts with a vowel\")\n",
    "    else:\n",
    "        print(\"Does not start with a vowel\")\n",
    "\n",
    "word = str(input(\"enter word: \"))\n",
    "starts_with_vowel(word)"
   ]
  },
  {
   "cell_type": "markdown",
   "id": "d64fdd3e",
   "metadata": {},
   "source": [
    "\n",
    "---\n",
    "\n",
    "### Exercise 3:\n",
    "Write a Python program that takes a list of integers and prints \"Even\" for each even number and \"Odd\" for each odd number.\n"
   ]
  },
  {
   "cell_type": "code",
   "execution_count": 6,
   "id": "e6926b1c",
   "metadata": {},
   "outputs": [
    {
     "name": "stdin",
     "output_type": "stream",
     "text": [
      "Enter numbers separated by spaces:  5 6 10\n"
     ]
    },
    {
     "name": "stdout",
     "output_type": "stream",
     "text": [
      "odd\n",
      "even\n",
      "even\n"
     ]
    }
   ],
   "source": [
    "# Exercise 3\n",
    "def even_or_odd(lst):\n",
    "    for num in lst:\n",
    "        if num % 2 == 0:\n",
    "            print(\"even\")\n",
    "        else:\n",
    "            print(\"odd\")\n",
    "numbers = input(\"Enter numbers separated by spaces: \")\n",
    "num_list = list(map(int, numbers.split()))\n",
    "even_or_odd(num_list)"
   ]
  },
  {
   "cell_type": "markdown",
   "id": "b5ce7b99",
   "metadata": {},
   "source": [
    "\n",
    "---\n",
    "\n",
    "### Exercise 4:\n",
    "Write a Python program that checks if a given year is a leap year.\n"
   ]
  },
  {
   "cell_type": "code",
   "execution_count": 8,
   "id": "eb3d99f0",
   "metadata": {},
   "outputs": [
    {
     "name": "stdin",
     "output_type": "stream",
     "text": [
      "Enter a Year:  45\n"
     ]
    },
    {
     "name": "stdout",
     "output_type": "stream",
     "text": [
      "common year\n"
     ]
    }
   ],
   "source": [
    "# Exercise 4\n",
    "def is_leap_year(year):\n",
    "    if (year % 4 == 0 and year % 100 !=0) or (year % 400 == 0):\n",
    "        print(\"Leap Year\")\n",
    "    else:\n",
    "        print(\"common year\")\n",
    "\n",
    "Year = int(input(\"Enter a Year: \"))\n",
    "is_leap_year(Year)"
   ]
  },
  {
   "cell_type": "markdown",
   "id": "c5496d7d",
   "metadata": {},
   "source": [
    "\n",
    "---\n",
    "\n",
    "### Exercise 5:\n",
    "Write a Python function that checks if a number is divisible by both 3 and 5.\n"
   ]
  },
  {
   "cell_type": "code",
   "execution_count": 10,
   "id": "46b1bd68",
   "metadata": {},
   "outputs": [
    {
     "name": "stdin",
     "output_type": "stream",
     "text": [
      "Enter number:  30\n"
     ]
    },
    {
     "name": "stdout",
     "output_type": "stream",
     "text": [
      "Divisible by both 3 and 5\n"
     ]
    }
   ],
   "source": [
    "# Exercise 5\n",
    "def divisible_by_3_and_5(n):\n",
    "    if n % 3 == 0 and n % 5 == 0:\n",
    "        print(\"Divisible by both 3 and 5\")\n",
    "    else:\n",
    "        print(\"Not divisible by both 3 and 5\")\n",
    "\n",
    "numb = int(input(\"Enter number: \"))\n",
    "divisible_by_3_and_5(numb)"
   ]
  },
  {
   "cell_type": "markdown",
   "id": "b0348707",
   "metadata": {},
   "source": [
    "\n",
    "---\n",
    "\n",
    "### Exercise 6:\n",
    "Write a Python program that prints \"Hot\" if the temperature is above 30, \"Warm\" if it is between 15 and 30, and \"Cold\" if it is below 15.\n"
   ]
  },
  {
   "cell_type": "code",
   "execution_count": 12,
   "id": "dfde8564",
   "metadata": {},
   "outputs": [
    {
     "name": "stdout",
     "output_type": "stream",
     "text": [
      "Warm\n"
     ]
    }
   ],
   "source": [
    "# Exercise 6\n",
    "def temperature_check(temp):\n",
    "    if temp > 30:\n",
    "        print(\"Hot\")\n",
    "    elif 15 <= temp <= 30:\n",
    "        print(\"Warm\")\n",
    "    else:\n",
    "        print(\"Cold\")\n",
    "\n",
    "temperature_check(30)"
   ]
  },
  {
   "cell_type": "markdown",
   "id": "ec1d713e",
   "metadata": {},
   "source": [
    "\n",
    "---\n",
    "\n",
    "### Exercise 7:\n",
    "Write a Python program that checks if a string contains the letter 'a'.\n"
   ]
  },
  {
   "cell_type": "code",
   "execution_count": 14,
   "id": "2eb30c57",
   "metadata": {},
   "outputs": [
    {
     "name": "stdout",
     "output_type": "stream",
     "text": [
      "Contains 'a'\n"
     ]
    }
   ],
   "source": [
    "# Exercise 7\n",
    "def contains_a(s):\n",
    "    if 'a' in s.lower():\n",
    "        print(\"Contains 'a'\")\n",
    "    else:\n",
    "        print(\"Does not contain 'a'\")\n",
    "\n",
    "contains_a(\"Hirwa\")"
   ]
  },
  {
   "cell_type": "markdown",
   "id": "8194f567",
   "metadata": {},
   "source": [
    "\n",
    "---\n",
    "\n",
    "### Exercise 8:\n",
    "Write a Python function that checks if two numbers are equal, or which one is larger.\n"
   ]
  },
  {
   "cell_type": "code",
   "execution_count": 16,
   "id": "ede9943f",
   "metadata": {},
   "outputs": [
    {
     "name": "stdin",
     "output_type": "stream",
     "text": [
      "Enter the first number:  5\n",
      "Enter the second number:  6\n"
     ]
    },
    {
     "name": "stdout",
     "output_type": "stream",
     "text": [
      "Second number is larger\n"
     ]
    }
   ],
   "source": [
    "# Exercise 8\n",
    "def compare_numbers(a, b):\n",
    "    if a == b:\n",
    "        print(\"Numbers are equal\")\n",
    "    elif a > b:\n",
    "        print(\"First number is larger\")\n",
    "    else:\n",
    "        print(\"Second number is larger\")\n",
    "\n",
    "num1 = int(input(\"Enter the first number: \"))\n",
    "num2 = int(input(\"Enter the second number: \"))\n",
    "compare_numbers(num1, num2)"
   ]
  },
  {
   "cell_type": "markdown",
   "id": "9e86c97f",
   "metadata": {},
   "source": [
    "\n",
    "---\n",
    "\n",
    "### Exercise 9:\n",
    "Write a Python program that checks if a list is empty.\n"
   ]
  },
  {
   "cell_type": "code",
   "execution_count": 18,
   "id": "13738c3f",
   "metadata": {},
   "outputs": [
    {
     "name": "stdin",
     "output_type": "stream",
     "text": [
      "Enter list items separated by spaces:  6 20\n"
     ]
    },
    {
     "name": "stdout",
     "output_type": "stream",
     "text": [
      "List is not empty\n"
     ]
    }
   ],
   "source": [
    "# Exercise 9\n",
    "def is_list_empty(lst):\n",
    "    if not lst:\n",
    "        print(\"List is empty\")\n",
    "    else:\n",
    "        print(\"List is not empty\")\n",
    "\n",
    "user_input = input(\"Enter list items separated by spaces: \").split()\n",
    "is_list_empty(user_input)"
   ]
  },
  {
   "cell_type": "markdown",
   "id": "645a85cc",
   "metadata": {},
   "source": [
    "\n",
    "---\n",
    "\n",
    "### Exercise 10:\n",
    "Write a Python function that takes two strings and checks if they are anagrams.\n"
   ]
  },
  {
   "cell_type": "code",
   "execution_count": 28,
   "id": "756b7d46",
   "metadata": {},
   "outputs": [
    {
     "name": "stdout",
     "output_type": "stream",
     "text": [
      "Anagrams\n"
     ]
    }
   ],
   "source": [
    "# Exercise 10\n",
    "def are_anagrams(s1, s2):\n",
    "    if sorted(s1) == sorted(s2):\n",
    "        print(\"Anagrams\")\n",
    "    else:\n",
    "        print(\"Not anagrams\")\n",
    "\n",
    "are_anagrams(\"spar\", \"raps\")"
   ]
  },
  {
   "cell_type": "markdown",
   "id": "59ebce61",
   "metadata": {},
   "source": [
    "\n",
    "---\n",
    "\n",
    "### Exercise 11:\n",
    "Write a Python program that checks if a number is prime.\n"
   ]
  },
  {
   "cell_type": "code",
   "execution_count": 32,
   "id": "b077d9a1",
   "metadata": {},
   "outputs": [
    {
     "name": "stdout",
     "output_type": "stream",
     "text": [
      "Prime\n"
     ]
    }
   ],
   "source": [
    "# Exercise 11\n",
    "def is_prime(n):\n",
    "    if n < 2:\n",
    "        print(\"Not prime\")\n",
    "    else:\n",
    "        for i in range(2, int(n**0.5) + 1):\n",
    "            if n % i == 0:\n",
    "                print(\"Not prime\")\n",
    "                return\n",
    "        print(\"Prime\")\n",
    "\n",
    "is_prime(5)"
   ]
  },
  {
   "cell_type": "markdown",
   "id": "531463b8",
   "metadata": {},
   "source": [
    "\n",
    "---\n",
    "\n",
    "### Exercise 12:\n",
    "Write a Python program that checks if a list of numbers is sorted in ascending order.\n"
   ]
  },
  {
   "cell_type": "code",
   "execution_count": 34,
   "id": "01fc5a9e",
   "metadata": {},
   "outputs": [
    {
     "name": "stdin",
     "output_type": "stream",
     "text": [
      "Enter list items separated by spaces:  1 4 2\n"
     ]
    },
    {
     "name": "stdout",
     "output_type": "stream",
     "text": [
      "Not sorted\n"
     ]
    }
   ],
   "source": [
    "# Exercise 12\n",
    "def is_sorted(lst):\n",
    "    if lst == sorted(lst):\n",
    "        print(\"Sorted in ascending order\")\n",
    "    else:\n",
    "        print(\"Not sorted\")\n",
    "\n",
    "users_input = input(\"Enter list items separated by spaces: \").split()\n",
    "is_sorted(users_input)"
   ]
  },
  {
   "cell_type": "markdown",
   "id": "b15a0cca",
   "metadata": {},
   "source": [
    "\n",
    "---\n",
    "\n",
    "### Exercise 13:\n",
    "Write a Python function that takes a character and checks if it is a digit.\n"
   ]
  },
  {
   "cell_type": "code",
   "execution_count": 40,
   "id": "2dc9a053",
   "metadata": {},
   "outputs": [
    {
     "name": "stdout",
     "output_type": "stream",
     "text": [
      "Is a digit\n"
     ]
    }
   ],
   "source": [
    "# Exercise 13\n",
    "def is_digit(ch):\n",
    "    if ch.isdigit():\n",
    "        print(\"Is a digit\")\n",
    "    else:\n",
    "        print(\"Not a digit\")\n",
    "\n",
    "is_digit('123')"
   ]
  },
  {
   "cell_type": "markdown",
   "id": "60190b10",
   "metadata": {},
   "source": [
    "\n",
    "---\n",
    "\n",
    "### Exercise 14:\n",
    "Write a Python function that checks if a string contains only uppercase letters.\n"
   ]
  },
  {
   "cell_type": "code",
   "execution_count": 42,
   "id": "4ed8ebfa",
   "metadata": {},
   "outputs": [
    {
     "name": "stdout",
     "output_type": "stream",
     "text": [
      "Not all uppercase\n"
     ]
    }
   ],
   "source": [
    "# Exercise 14\n",
    "def is_all_uppercase(s):\n",
    "    if s.isupper():\n",
    "        print(\"All uppercase\")\n",
    "    else:\n",
    "        print(\"Not all uppercase\")\n",
    "\n",
    "is_all_uppercase(\"Nadia\")"
   ]
  },
  {
   "cell_type": "markdown",
   "id": "7f7dd4fd",
   "metadata": {},
   "source": [
    "\n",
    "---\n",
    "\n",
    "### Exercise 15:\n",
    "Write a Python program that checks if a number is a multiple of 10.\n"
   ]
  },
  {
   "cell_type": "code",
   "execution_count": 44,
   "id": "e35d5709",
   "metadata": {},
   "outputs": [
    {
     "name": "stdout",
     "output_type": "stream",
     "text": [
      "Multiple of 10\n"
     ]
    }
   ],
   "source": [
    "# Exercise 15\n",
    "def is_multiple_of_10(n):\n",
    "    if n % 10 == 0:\n",
    "        print(\"Multiple of 10\")\n",
    "    else:\n",
    "        print(\"Not a multiple of 10\")\n",
    "\n",
    "is_multiple_of_10(100)"
   ]
  },
  {
   "cell_type": "markdown",
   "id": "83e1c5d3",
   "metadata": {},
   "source": [
    "\n",
    "---\n",
    "\n",
    "### Exercise 16:\n",
    "Write a Python function that checks if a list contains any duplicates.\n"
   ]
  },
  {
   "cell_type": "code",
   "execution_count": 50,
   "id": "24d52edd",
   "metadata": {},
   "outputs": [
    {
     "name": "stdout",
     "output_type": "stream",
     "text": [
      "No duplicates\n"
     ]
    }
   ],
   "source": [
    "# Exercise 16\n",
    "def has_duplicates(lst):\n",
    "    if len(lst) != len(set(lst)):\n",
    "        print(\"Contains duplicates\")\n",
    "    else:\n",
    "        print(\"No duplicates\")\n",
    "\n",
    "has_duplicates([2, 5, 6])"
   ]
  },
  {
   "cell_type": "markdown",
   "id": "d9533146",
   "metadata": {},
   "source": [
    "\n",
    "---\n",
    "\n",
    "### Exercise 17:\n",
    "Write a Python program that prints \"Teenager\" if the age is between 13 and 19, otherwise it prints \"Not a teenager.\"\n"
   ]
  },
  {
   "cell_type": "code",
   "execution_count": 52,
   "id": "bd9212dd",
   "metadata": {},
   "outputs": [
    {
     "name": "stdout",
     "output_type": "stream",
     "text": [
      "Not a teenager\n"
     ]
    }
   ],
   "source": [
    "# Exercise 17\n",
    "def check_age(age):\n",
    "    if 13 <= age <= 19:\n",
    "        print(\"Teenager\")\n",
    "    else:\n",
    "        print(\"Not a teenager\")\n",
    "\n",
    "check_age(21)"
   ]
  },
  {
   "cell_type": "markdown",
   "id": "370f2ba1",
   "metadata": {},
   "source": [
    "\n",
    "---\n",
    "\n",
    "### Exercise 18:\n",
    "Write a Python function that checks if a list contains an element greater than 100.\n"
   ]
  },
  {
   "cell_type": "code",
   "execution_count": 54,
   "id": "23cde312",
   "metadata": {},
   "outputs": [
    {
     "name": "stdin",
     "output_type": "stream",
     "text": [
      "Enter list items separated by spaces:  3 5 101\n"
     ]
    },
    {
     "name": "stdout",
     "output_type": "stream",
     "text": [
      "Contains element greater than 100\n"
     ]
    }
   ],
   "source": [
    "# Exercise 18\n",
    "def has_greater_than_100(lst):\n",
    "    if any(x > 100 for x in lst):\n",
    "        print(\"Contains element greater than 100\")\n",
    "    else:\n",
    "        print(\"No element greater than 100\")\n",
    "    # for x in lst:\n",
    "    #     if x > 100:\n",
    "    #         print(\"Contains element greater than 100\")\n",
    "    #         return\n",
    "    #     print(\"No element greater than 100\")\n",
    "\n",
    "t = input(\"Enter list items separated by spaces: \").split()\n",
    "t = list(map(int, t))\n",
    "has_greater_than_100(t)"
   ]
  },
  {
   "cell_type": "markdown",
   "id": "322ae5e3",
   "metadata": {},
   "source": [
    "\n",
    "---\n",
    "\n",
    "### Exercise 19:\n",
    "Write a Python program that checks if a number is even or odd.\n"
   ]
  },
  {
   "cell_type": "code",
   "execution_count": 56,
   "id": "a91bd104",
   "metadata": {},
   "outputs": [
    {
     "name": "stdout",
     "output_type": "stream",
     "text": [
      "Even\n"
     ]
    }
   ],
   "source": [
    "# Exercise 19\n",
    "def check_even_odd(n):\n",
    "    if n % 2 == 0:\n",
    "        print(\"Even\")\n",
    "    else:\n",
    "        print(\"Odd\")\n",
    "\n",
    "check_even_odd(30)"
   ]
  },
  {
   "cell_type": "markdown",
   "id": "98e0835d",
   "metadata": {},
   "source": [
    "\n",
    "---\n",
    "\n",
    "### Exercise 20:\n",
    "Write a Python function that checks if a string ends with a punctuation mark.\n"
   ]
  },
  {
   "cell_type": "code",
   "execution_count": 60,
   "id": "31fd2458",
   "metadata": {},
   "outputs": [
    {
     "name": "stdout",
     "output_type": "stream",
     "text": [
      "Ends with a punctuation mark\n"
     ]
    }
   ],
   "source": [
    "# Exercise 20\n",
    "def ends_with_punctuation(s):\n",
    "    if s and s[-1] in \".!?\":\n",
    "        print(\"Ends with a punctuation mark\")\n",
    "    else:\n",
    "        print(\"Does not end with a punctuation mark\")\n",
    "\n",
    "ends_with_punctuation(\"Hello !\")"
   ]
  },
  {
   "cell_type": "markdown",
   "id": "fb313702",
   "metadata": {},
   "source": [
    "\n",
    "---\n",
    "\n",
    "### Exercise 21:\n",
    "Write a Python program that prints \"Yes\" if the number is between 1 and 100, otherwise it prints \"No.\"\n"
   ]
  },
  {
   "cell_type": "code",
   "execution_count": 62,
   "id": "e362bd56",
   "metadata": {},
   "outputs": [
    {
     "name": "stdout",
     "output_type": "stream",
     "text": [
      "Yes\n"
     ]
    }
   ],
   "source": [
    "# Exercise 21\n",
    "def check_range(n):\n",
    "    if 1 <= n <= 100:\n",
    "        print(\"Yes\")\n",
    "    else:\n",
    "        print(\"No\")\n",
    "\n",
    "check_range(10)"
   ]
  },
  {
   "cell_type": "markdown",
   "id": "3afeef94",
   "metadata": {},
   "source": [
    "\n",
    "---\n",
    "\n",
    "### Exercise 22:\n",
    "Write a Python program that checks if two strings have the same length.\n"
   ]
  },
  {
   "cell_type": "code",
   "execution_count": 64,
   "id": "73b75867",
   "metadata": {},
   "outputs": [
    {
     "name": "stdout",
     "output_type": "stream",
     "text": [
      "Same length\n"
     ]
    }
   ],
   "source": [
    "# Exercise 22\n",
    "def same_length(str1, str2):\n",
    "    if len(str1) == len(str2):\n",
    "        print(\"Same length\")\n",
    "    else:\n",
    "        print(\"Different lengths\")\n",
    "\n",
    "same_length('Nadia', 'Hirwa')"
   ]
  },
  {
   "cell_type": "markdown",
   "id": "bdd8e2ae",
   "metadata": {},
   "source": [
    "\n",
    "---\n",
    "\n",
    "### Exercise 23:\n",
    "Write a Python function that checks if a number is greater than its reverse.\n"
   ]
  },
  {
   "cell_type": "code",
   "execution_count": 66,
   "id": "da8ad2f4",
   "metadata": {},
   "outputs": [
    {
     "name": "stdin",
     "output_type": "stream",
     "text": [
      "Enter number:  44\n"
     ]
    },
    {
     "name": "stdout",
     "output_type": "stream",
     "text": [
      "Not greater than reverse\n"
     ]
    }
   ],
   "source": [
    "# Exercise 23\n",
    "def greater_than_reverse(n):\n",
    "    reverse_n = int(str(n)[::-1])\n",
    "    if n > reverse_n:\n",
    "        print(\"Greater than reverse\")\n",
    "    else:\n",
    "        print(\"Not greater than reverse\")\n",
    "\n",
    "numbe = int(input(\"Enter number: \"))\n",
    "greater_than_reverse(numbe)"
   ]
  },
  {
   "cell_type": "markdown",
   "id": "fab070bc",
   "metadata": {},
   "source": [
    "\n",
    "---\n",
    "\n",
    "### Exercise 24:\n",
    "Write a Python program that checks if a password contains both letters and numbers.\n"
   ]
  },
  {
   "cell_type": "code",
   "execution_count": 70,
   "id": "6e22f9b2",
   "metadata": {},
   "outputs": [
    {
     "name": "stdout",
     "output_type": "stream",
     "text": [
      "Contains both letters and numbers\n"
     ]
    }
   ],
   "source": [
    "# Exercise 24\n",
    "def valid_password(pwd):\n",
    "    has_letter = any(c.isalpha() for c in pwd)\n",
    "    has_digit = any(c.isdigit() for c in pwd)\n",
    "    if has_letter and has_digit:\n",
    "        print(\"Contains both letters and numbers\")\n",
    "    else:\n",
    "        print(\"Doesn't contain both letters and numbers\")\n",
    "\n",
    "valid_password(\"Nadia078\")"
   ]
  },
  {
   "cell_type": "markdown",
   "id": "11cb6e7b",
   "metadata": {},
   "source": [
    "\n",
    "---\n",
    "\n",
    "### Exercise 25:\n",
    "Write a Python program that checks if a number is between two given numbers.\n"
   ]
  },
  {
   "cell_type": "code",
   "execution_count": 72,
   "id": "38cab028",
   "metadata": {},
   "outputs": [
    {
     "name": "stdout",
     "output_type": "stream",
     "text": [
      "Yes\n"
     ]
    }
   ],
   "source": [
    "# Exercise 25\n",
    "def between(x, low, high):\n",
    "    if low < x < high:\n",
    "        print(\"Yes\")\n",
    "    else:\n",
    "        print(\"No\")\n",
    "\n",
    "between(5, 1, 10)"
   ]
  },
  {
   "cell_type": "markdown",
   "id": "50b24a42",
   "metadata": {},
   "source": [
    "\n",
    "---\n",
    "\n",
    "### Exercise 26:\n",
    "Write a Python function that checks if all characters in a string are unique.\n"
   ]
  },
  {
   "cell_type": "code",
   "execution_count": 76,
   "id": "62537159",
   "metadata": {},
   "outputs": [
    {
     "name": "stdout",
     "output_type": "stream",
     "text": [
      "All characters are unique\n"
     ]
    }
   ],
   "source": [
    "# Exercise 26\n",
    "def all_unique(s):\n",
    "    if len(set(s)) == len(s):\n",
    "        print(\"All characters are unique\")\n",
    "    else:\n",
    "        print(\"Duplicates found\")\n",
    "\n",
    "all_unique(\"Hirwa\")"
   ]
  },
  {
   "cell_type": "markdown",
   "id": "54ffa82e",
   "metadata": {},
   "source": [
    "\n",
    "---\n",
    "\n",
    "### Exercise 27:\n",
    "Write a Python program that checks if a number is a perfect square.\n"
   ]
  },
  {
   "cell_type": "code",
   "execution_count": 82,
   "id": "dd0707b7",
   "metadata": {},
   "outputs": [
    {
     "name": "stdout",
     "output_type": "stream",
     "text": [
      "Perfect square\n"
     ]
    }
   ],
   "source": [
    "# Exercise 27\n",
    "def is_perfect_square(n):\n",
    "    if int(n ** 0.5) ** 2 == n:\n",
    "        print(\"Perfect square\")\n",
    "    else:\n",
    "        print(\"Not a perfect square\")\n",
    "\n",
    "is_perfect_square(9)"
   ]
  },
  {
   "cell_type": "markdown",
   "id": "78349b82",
   "metadata": {},
   "source": [
    "\n",
    "---\n",
    "\n",
    "### Exercise 28:\n",
    "Write a Python function that checks if a word is a palindrome.\n"
   ]
  },
  {
   "cell_type": "code",
   "execution_count": 84,
   "id": "04056d04",
   "metadata": {},
   "outputs": [
    {
     "name": "stdout",
     "output_type": "stream",
     "text": [
      "Palindrome\n"
     ]
    }
   ],
   "source": [
    "# Exercise 28\n",
    "def is_palindrome(word):\n",
    "    if word == word[::-1]:\n",
    "        print(\"Palindrome\")\n",
    "    else:\n",
    "        print(\"Not a palindrome\")\n",
    "\n",
    "is_palindrome(\"radar\")"
   ]
  },
  {
   "cell_type": "markdown",
   "id": "9728cce0",
   "metadata": {},
   "source": [
    "\n",
    "---\n",
    "\n",
    "### Exercise 29:\n",
    "Write a Python program that prints \"Fizz\" if a number is divisible by 3, \"Buzz\" if it is divisible by 5, and \"FizzBuzz\" if divisible by both.\n"
   ]
  },
  {
   "cell_type": "code",
   "execution_count": 88,
   "id": "d3caedaa",
   "metadata": {},
   "outputs": [
    {
     "name": "stdout",
     "output_type": "stream",
     "text": [
      "Buzz\n"
     ]
    }
   ],
   "source": [
    "# Exercise 29\n",
    "def fizz_buzz(n):\n",
    "    if n % 3 == 0 and n % 5 == 0:\n",
    "        print(\"FizzBuzz\")\n",
    "    elif n % 3 == 0:\n",
    "        print(\"Fizz\")\n",
    "    elif n % 5 == 0:\n",
    "        print(\"Buzz\")\n",
    "    else:\n",
    "        print(n)\n",
    "\n",
    "fizz_buzz(10)"
   ]
  },
  {
   "cell_type": "markdown",
   "id": "b3c19de5",
   "metadata": {},
   "source": [
    "\n",
    "---\n",
    "\n",
    "### Exercise 30:\n",
    "Write a Python program that checks if the sum of the digits of a number is even.\n"
   ]
  },
  {
   "cell_type": "code",
   "execution_count": 92,
   "id": "1d8d47e4",
   "metadata": {},
   "outputs": [
    {
     "name": "stdout",
     "output_type": "stream",
     "text": [
      "Sum of digits is even\n"
     ]
    }
   ],
   "source": [
    "# Exercise 30\n",
    "def sum_digits_even(n):\n",
    "    digit_sum = sum(int(d) for d in str(n))\n",
    "    if digit_sum % 2 == 0:\n",
    "        print(\"Sum of digits is even\")\n",
    "    else:\n",
    "        print(\"Sum of digits is odd\")\n",
    "\n",
    "sum_digits_even(57)"
   ]
  },
  {
   "cell_type": "markdown",
   "id": "dbe78293",
   "metadata": {},
   "source": [
    "\n",
    "---\n",
    "\n",
    "### Exercise 31:\n",
    "Write a Python program that checks if a string is a valid email address.\n"
   ]
  },
  {
   "cell_type": "code",
   "execution_count": 94,
   "id": "dc64fe29",
   "metadata": {},
   "outputs": [
    {
     "name": "stdout",
     "output_type": "stream",
     "text": [
      "Valid email\n"
     ]
    }
   ],
   "source": [
    "# Exercise 31\n",
    "import re\n",
    "def valid_email(email):\n",
    "    if re.match(r\"[^@]+@[^@]+\\.[^@]+\", email):\n",
    "        print(\"Valid email\")\n",
    "    else:\n",
    "        print(\"Invalid email\")\n",
    "\n",
    "valid_email(\"irahirnad22@gmail.com\")"
   ]
  },
  {
   "cell_type": "markdown",
   "id": "32922851",
   "metadata": {},
   "source": [
    "\n",
    "---\n",
    "\n",
    "### Exercise 32:\n",
    "Write a Python function that checks if a number is within 10 of 100 or 200.\n"
   ]
  },
  {
   "cell_type": "code",
   "execution_count": 116,
   "id": "c3ae205c",
   "metadata": {},
   "outputs": [
    {
     "name": "stdout",
     "output_type": "stream",
     "text": [
      "Within 10 of 100 or 200\n"
     ]
    }
   ],
   "source": [
    "# Exercise 32\n",
    "def near_100_or_200(n):\n",
    "    if abs(100 - n) <= 10 or abs(200 - n) <= 10:\n",
    "        print(\"Within 10 of 100 or 200\")\n",
    "    else:\n",
    "        print(\"Not within range\")\n",
    "\n",
    "near_100_or_200(99)"
   ]
  },
  {
   "cell_type": "markdown",
   "id": "fedc8718",
   "metadata": {},
   "source": [
    "\n",
    "---\n",
    "\n",
    "### Exercise 33:\n",
    "Write a Python program that checks if a given string is a valid URL.\n"
   ]
  },
  {
   "cell_type": "code",
   "execution_count": 126,
   "id": "756593ce",
   "metadata": {},
   "outputs": [
    {
     "name": "stdout",
     "output_type": "stream",
     "text": [
      "Valid URL\n"
     ]
    }
   ],
   "source": [
    "# Exercise 33\n",
    "def valid_url(url):\n",
    "    if re.match(r'https?://[^\\s]+', url):\n",
    "        print(\"Valid URL\")\n",
    "    else:\n",
    "        print(\"Invalid URL\")\n",
    "\n",
    "valid_url(\"http://google.com\")"
   ]
  },
  {
   "cell_type": "markdown",
   "id": "13e8fcae",
   "metadata": {},
   "source": [
    "\n",
    "---\n",
    "\n",
    "### Exercise 34:\n",
    "Write a Python program that checks if a list contains all even numbers.\n"
   ]
  },
  {
   "cell_type": "code",
   "execution_count": 130,
   "id": "e3069861",
   "metadata": {},
   "outputs": [
    {
     "name": "stdout",
     "output_type": "stream",
     "text": [
      "All even numbers\n"
     ]
    }
   ],
   "source": [
    "# Exercise 34\n",
    "def all_even(lst):\n",
    "    if all(x % 2 == 0 for x in lst):\n",
    "        print(\"All even numbers\")\n",
    "    else:\n",
    "        print(\"Not all even\")\n",
    "\n",
    "all_even([4, 2, 6])"
   ]
  },
  {
   "cell_type": "markdown",
   "id": "f19e5362",
   "metadata": {},
   "source": [
    "\n",
    "---\n",
    "\n",
    "### Exercise 35:\n",
    "Write a Python program that checks if a word is longer than a given length.\n"
   ]
  },
  {
   "cell_type": "code",
   "execution_count": 134,
   "id": "491df226",
   "metadata": {},
   "outputs": [
    {
     "name": "stdout",
     "output_type": "stream",
     "text": [
      "Not longer\n"
     ]
    }
   ],
   "source": [
    "# Exercise 35\n",
    "def longer_than(word, length):\n",
    "    if len(word) > length:\n",
    "        print(\"Longer\")\n",
    "    else:\n",
    "        print(\"Not longer\")\n",
    "\n",
    "longer_than(\"Nadia\", 6)"
   ]
  },
  {
   "cell_type": "markdown",
   "id": "68956c6c",
   "metadata": {},
   "source": [
    "\n",
    "---\n",
    "\n",
    "### Exercise 36:\n",
    "Write a Python program that checks if a list contains only positive numbers.\n"
   ]
  },
  {
   "cell_type": "code",
   "execution_count": 136,
   "id": "09112e89",
   "metadata": {},
   "outputs": [
    {
     "name": "stdout",
     "output_type": "stream",
     "text": [
      "Not all positive\n"
     ]
    }
   ],
   "source": [
    "# Exercise 36\n",
    "def only_positive(lst):\n",
    "    if all(x > 0 for x in lst):\n",
    "        print(\"All positive\")\n",
    "    else:\n",
    "        print(\"Not all positive\")\n",
    "\n",
    "only_positive([-1, 2, 4])"
   ]
  },
  {
   "cell_type": "markdown",
   "id": "14f0333b",
   "metadata": {},
   "source": [
    "\n",
    "---\n",
    "\n",
    "### Exercise 37:\n",
    "Write a Python function that checks if a year is a century year (i.e., divisible by 100).\n"
   ]
  },
  {
   "cell_type": "code",
   "execution_count": 138,
   "id": "9a0ee8fa",
   "metadata": {},
   "outputs": [
    {
     "name": "stdout",
     "output_type": "stream",
     "text": [
      "Century year\n"
     ]
    }
   ],
   "source": [
    "# Exercise 37\n",
    "def is_century_year(year):\n",
    "    if year % 100 == 0:\n",
    "        print(\"Century year\")\n",
    "    else:\n",
    "        print(\"Not a century year\")\n",
    "\n",
    "is_century_year(2000)"
   ]
  },
  {
   "cell_type": "markdown",
   "id": "6271bb93",
   "metadata": {},
   "source": [
    "\n",
    "---\n",
    "\n",
    "### Exercise 38:\n",
    "Write a Python program that checks if the sum of a list of numbers is greater than 100.\n"
   ]
  },
  {
   "cell_type": "code",
   "execution_count": 140,
   "id": "6ddf783b",
   "metadata": {},
   "outputs": [
    {
     "name": "stdout",
     "output_type": "stream",
     "text": [
      "Sum is greater than 100\n"
     ]
    }
   ],
   "source": [
    "# Exercise 38\n",
    "def sum_over_100(lst):\n",
    "    if sum(lst) > 100:\n",
    "        print(\"Sum is greater than 100\")\n",
    "    else:\n",
    "        print(\"Sum is not greater than 100\")\n",
    "\n",
    "sum_over_100([2, 100])"
   ]
  },
  {
   "cell_type": "markdown",
   "id": "8a8b88a8",
   "metadata": {},
   "source": [
    "\n",
    "---\n",
    "\n",
    "### Exercise 39:\n",
    "Write a Python function that checks if a given word is a substring of another string.\n"
   ]
  },
  {
   "cell_type": "code",
   "execution_count": 146,
   "id": "2d077065",
   "metadata": {},
   "outputs": [
    {
     "name": "stdout",
     "output_type": "stream",
     "text": [
      "Substring found\n"
     ]
    }
   ],
   "source": [
    "# Exercise 39\n",
    "def contains_substring(word, string):\n",
    "    if word in string:\n",
    "        print(\"Substring found\")\n",
    "    else:\n",
    "        print(\"Substring not found\")\n",
    "\n",
    "contains_substring(\"Hirwa\", \"NadiaHirwa\")"
   ]
  },
  {
   "cell_type": "markdown",
   "id": "b21a3bd9",
   "metadata": {},
   "source": [
    "\n",
    "---\n",
    "\n",
    "### Exercise 40:\n",
    "Write a Python program that checks if a number is a power of 2.\n"
   ]
  },
  {
   "cell_type": "code",
   "execution_count": 152,
   "id": "fa1ccd70",
   "metadata": {},
   "outputs": [
    {
     "name": "stdout",
     "output_type": "stream",
     "text": [
      "Power of 2\n"
     ]
    }
   ],
   "source": [
    "# Exercise 40\n",
    "def is_power_of_2(n):\n",
    "    if n > 0 and (n & (n - 1)) == 0:\n",
    "        print(\"Power of 2\")\n",
    "    else:\n",
    "        print(\"Not a power of 2\")\n",
    "\n",
    "is_power_of_2(8)"
   ]
  },
  {
   "cell_type": "markdown",
   "id": "5ecd119f",
   "metadata": {},
   "source": [
    "\n",
    "---\n",
    "\n",
    "### Exercise 41:\n",
    "Write a Python function that checks if a string contains no spaces.\n"
   ]
  },
  {
   "cell_type": "code",
   "execution_count": 154,
   "id": "8017833e",
   "metadata": {},
   "outputs": [
    {
     "name": "stdout",
     "output_type": "stream",
     "text": [
      "No spaces\n"
     ]
    }
   ],
   "source": [
    "# Exercise 41\n",
    "def no_spaces(s):\n",
    "    if ' ' not in s:\n",
    "        print(\"No spaces\")\n",
    "    else:\n",
    "        print(\"Contains spaces\")\n",
    "\n",
    "no_spaces(\"Nadia\")"
   ]
  },
  {
   "cell_type": "markdown",
   "id": "9b3c2803",
   "metadata": {},
   "source": [
    "\n",
    "---\n",
    "\n",
    "### Exercise 42:\n",
    "Write a Python program that prints \"Yes\" if a number is divisible by both 2 and 3, otherwise it prints \"No.\"\n"
   ]
  },
  {
   "cell_type": "code",
   "execution_count": 156,
   "id": "cdbf39a0",
   "metadata": {},
   "outputs": [
    {
     "name": "stdout",
     "output_type": "stream",
     "text": [
      "Yes\n"
     ]
    }
   ],
   "source": [
    "# Exercise 42\n",
    "def divisible_by_2_and_3(n):\n",
    "    if n % 2 == 0 and n % 3 == 0:\n",
    "        print(\"Yes\")\n",
    "    else:\n",
    "        print(\"No\")\n",
    "\n",
    "divisible_by_2_and_3(6)"
   ]
  },
  {
   "cell_type": "markdown",
   "id": "5a691fcf",
   "metadata": {},
   "source": [
    "\n",
    "---\n",
    "\n",
    "### Exercise 43:\n",
    "Write a Python program that checks if a number is a palindrome.\n"
   ]
  },
  {
   "cell_type": "code",
   "execution_count": 160,
   "id": "e7528a0b",
   "metadata": {},
   "outputs": [
    {
     "name": "stdout",
     "output_type": "stream",
     "text": [
      "Palindrome\n"
     ]
    }
   ],
   "source": [
    "# Exercise 43\n",
    "def is_palindrome_number(n):\n",
    "    if str(n) == str(n)[::-1]:\n",
    "        print(\"Palindrome\")\n",
    "    else:\n",
    "        print(\"Not palindrome\")\n",
    "\n",
    "is_palindrome_number(55)"
   ]
  },
  {
   "cell_type": "markdown",
   "id": "49dfa276",
   "metadata": {},
   "source": [
    "\n",
    "---\n",
    "\n",
    "### Exercise 44:\n",
    "Write a Python function that checks if a string is made of only lowercase letters.\n"
   ]
  },
  {
   "cell_type": "code",
   "execution_count": 162,
   "id": "2aa39193",
   "metadata": {},
   "outputs": [
    {
     "name": "stdout",
     "output_type": "stream",
     "text": [
      "Not all lowercase\n"
     ]
    }
   ],
   "source": [
    "# Exercise 44\n",
    "def all_lowercase(s):\n",
    "    if s.islower():\n",
    "        print(\"All lowercase\")\n",
    "    else:\n",
    "        print(\"Not all lowercase\")\n",
    "\n",
    "all_lowercase(\"Nadia\")"
   ]
  },
  {
   "cell_type": "markdown",
   "id": "e5ba21ba",
   "metadata": {},
   "source": [
    "\n",
    "---\n",
    "\n",
    "### Exercise 45:\n",
    "Write a Python program that checks if a string starts with a specific prefix.\n"
   ]
  },
  {
   "cell_type": "code",
   "execution_count": 166,
   "id": "e6670049",
   "metadata": {},
   "outputs": [
    {
     "name": "stdout",
     "output_type": "stream",
     "text": [
      "Starts with prefix\n"
     ]
    }
   ],
   "source": [
    "# Exercise 45\n",
    "def starts_with_prefix(s, prefix):\n",
    "    if s.startswith(prefix):\n",
    "        print(\"Starts with prefix\")\n",
    "    else:\n",
    "        print(\"Does not start with prefix\")\n",
    "\n",
    "starts_with_prefix(\"Nadia\", \"N\")"
   ]
  },
  {
   "cell_type": "markdown",
   "id": "1ee0a3b5",
   "metadata": {},
   "source": [
    "\n",
    "---\n",
    "\n",
    "### Exercise 46:\n",
    "Write a Python function that checks if a number is divisible by any number in a given list.\n"
   ]
  },
  {
   "cell_type": "code",
   "execution_count": 168,
   "id": "7d01ccf9",
   "metadata": {},
   "outputs": [
    {
     "name": "stdout",
     "output_type": "stream",
     "text": [
      "Divisible by a number in the list\n"
     ]
    }
   ],
   "source": [
    "# Exercise 46\n",
    "def divisible_by_list(n, lst):\n",
    "    if any(n % x == 0 for x in lst):\n",
    "        print(\"Divisible by a number in the list\")\n",
    "    else:\n",
    "        print(\"Not divisible by any number in the list\")\n",
    "\n",
    "divisible_by_list(2, [2, 4, 6])"
   ]
  },
  {
   "cell_type": "markdown",
   "id": "1563300f",
   "metadata": {},
   "source": [
    "\n",
    "---\n",
    "\n",
    "### Exercise 47:\n",
    "Write a Python program that prints \"Yes\" if a string has more than one occurrence of the same letter.\n"
   ]
  },
  {
   "cell_type": "code",
   "execution_count": 170,
   "id": "923dcbc1",
   "metadata": {},
   "outputs": [
    {
     "name": "stdout",
     "output_type": "stream",
     "text": [
      "Yes\n"
     ]
    }
   ],
   "source": [
    "# Exercise 47\n",
    "def has_duplicate_letters(s):\n",
    "    if len(set(s)) < len(s):\n",
    "        print(\"Yes\")\n",
    "    else:\n",
    "        print(\"No\")\n",
    "\n",
    "has_duplicate_letters(\"Nadia\")"
   ]
  },
  {
   "cell_type": "markdown",
   "id": "ecfb7eba",
   "metadata": {},
   "source": [
    "\n",
    "---\n",
    "\n",
    "### Exercise 48:\n",
    "Write a Python function that checks if a number is prime by dividing it by numbers up to its square root.\n"
   ]
  },
  {
   "cell_type": "code",
   "execution_count": 172,
   "id": "3492a570",
   "metadata": {},
   "outputs": [
    {
     "name": "stdout",
     "output_type": "stream",
     "text": [
      "Prime\n"
     ]
    }
   ],
   "source": [
    "# Exercise 48\n",
    "import math\n",
    "def is_prime_sqrt(n):\n",
    "    if n < 2:\n",
    "        print(\"Not prime\")\n",
    "        return\n",
    "    for i in range(2, int(math.sqrt(n)) + 1):\n",
    "        if n % i == 0:\n",
    "            print(\"Not prime\")\n",
    "            return\n",
    "    print(\"Prime\")\n",
    "\n",
    "is_prime_sqrt(5)"
   ]
  },
  {
   "cell_type": "markdown",
   "id": "efb3508c",
   "metadata": {},
   "source": [
    "\n",
    "---\n",
    "\n",
    "### Exercise 49:\n",
    "Write a Python program that checks if a number is within 1 of a multiple of 10.\n"
   ]
  },
  {
   "cell_type": "code",
   "execution_count": 176,
   "id": "fc272cc0",
   "metadata": {},
   "outputs": [
    {
     "name": "stdout",
     "output_type": "stream",
     "text": [
      "Yes\n"
     ]
    }
   ],
   "source": [
    "# Exercise 49\n",
    "def near_multiple_of_10(n):\n",
    "    if n % 10 == 1 or n % 10 == 9:\n",
    "        print(\"Yes\")\n",
    "    else:\n",
    "        print(\"No\")\n",
    "\n",
    "near_multiple_of_10(9)"
   ]
  },
  {
   "cell_type": "markdown",
   "id": "8c58ab68",
   "metadata": {},
   "source": [
    "\n",
    "---\n",
    "\n",
    "### Exercise 50:\n",
    "Write a Python program that prints \"In range\" if a number is between 10 and 20 (inclusive), otherwise it prints \"Out of range.\"\n"
   ]
  },
  {
   "cell_type": "code",
   "execution_count": 180,
   "id": "24ea2036",
   "metadata": {},
   "outputs": [
    {
     "name": "stdout",
     "output_type": "stream",
     "text": [
      "In range\n"
     ]
    }
   ],
   "source": [
    "# Exercise 50\n",
    "def in_range_10_to_20(n):\n",
    "    if 10 <= n <= 20:\n",
    "        print(\"In range\")\n",
    "    else:\n",
    "        print(\"Out of range\")\n",
    "\n",
    "in_range_10_to_20(11)"
   ]
  },
  {
   "cell_type": "markdown",
   "id": "87ccd774",
   "metadata": {},
   "source": [
    "\n",
    "---"
   ]
  }
 ],
 "metadata": {
  "kernelspec": {
   "display_name": "Python [conda env:base] *",
   "language": "python",
   "name": "conda-base-py"
  },
  "language_info": {
   "codemirror_mode": {
    "name": "ipython",
    "version": 3
   },
   "file_extension": ".py",
   "mimetype": "text/x-python",
   "name": "python",
   "nbconvert_exporter": "python",
   "pygments_lexer": "ipython3",
   "version": "3.12.7"
  }
 },
 "nbformat": 4,
 "nbformat_minor": 5
}
