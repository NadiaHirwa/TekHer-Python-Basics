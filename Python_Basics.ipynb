{
 "cells": [
  {
   "cell_type": "code",
   "execution_count": 7,
   "id": "43d81fbe-0a8b-4035-90dc-d5b46e2e863c",
   "metadata": {},
   "outputs": [
    {
     "name": "stdout",
     "output_type": "stream",
     "text": [
      "x: 10\n"
     ]
    }
   ],
   "source": [
    "x = 10\n",
    "print(\"x:\", x)"
   ]
  },
  {
   "cell_type": "code",
   "execution_count": 9,
   "id": "f48749be-7018-40a4-a665-37bf04d3f2e6",
   "metadata": {},
   "outputs": [
    {
     "name": "stdout",
     "output_type": "stream",
     "text": [
      "is_valid: True\n"
     ]
    }
   ],
   "source": [
    "is_valid = True\n",
    "print(\"is_valid:\",is_valid)"
   ]
  },
  {
   "cell_type": "code",
   "execution_count": 11,
   "id": "841a0f8f-5aa1-4273-85d8-ed98f22a690b",
   "metadata": {},
   "outputs": [
    {
     "name": "stdout",
     "output_type": "stream",
     "text": [
      "name:  Python Programming\n"
     ]
    }
   ],
   "source": [
    "name = \"Python Programming\"\n",
    "print(\"name: \", name)"
   ]
  },
  {
   "cell_type": "code",
   "execution_count": 13,
   "id": "b673ea88-6810-449e-b711-0e3bb70fe15b",
   "metadata": {},
   "outputs": [
    {
     "name": "stdout",
     "output_type": "stream",
     "text": [
      "sum_result: 8\n"
     ]
    }
   ],
   "source": [
    "sum_result = 5 + 3\n",
    "print(\"sum_result:\", sum_result)"
   ]
  },
  {
   "cell_type": "code",
   "execution_count": 15,
   "id": "de14f2d5-0b5d-494a-aacf-5613c77731a7",
   "metadata": {},
   "outputs": [
    {
     "name": "stdout",
     "output_type": "stream",
     "text": [
      "a: 5 b: 10 c: 15\n"
     ]
    }
   ],
   "source": [
    "a, b, c = 5, 10, 15\n",
    "print(\"a:\", a, \"b:\", b, \"c:\", c)"
   ]
  },
  {
   "cell_type": "code",
   "execution_count": 17,
   "id": "2c489c47-df1e-4f46-8c40-d9cd4a7cd615",
   "metadata": {},
   "outputs": [
    {
     "name": "stdout",
     "output_type": "stream",
     "text": [
      "x: 10 y: 10\n"
     ]
    }
   ],
   "source": [
    "x = 10\n",
    "y = x\n",
    "print(\"x:\", x, \"y:\", y)"
   ]
  },
  {
   "cell_type": "code",
   "execution_count": 19,
   "id": "b93a4adf-377b-4aa5-993c-116f7a03426a",
   "metadata": {},
   "outputs": [
    {
     "name": "stdout",
     "output_type": "stream",
     "text": [
      "gravity: 9.8\n"
     ]
    }
   ],
   "source": [
    "gravity = 9.8\n",
    "print(\"gravity:\", gravity)"
   ]
  },
  {
   "cell_type": "code",
   "execution_count": 21,
   "id": "70deedc5-23c6-4a70-ab1e-ac33134a87ba",
   "metadata": {},
   "outputs": [
    {
     "name": "stdout",
     "output_type": "stream",
     "text": [
      "country: Rwanda\n"
     ]
    }
   ],
   "source": [
    "country = \"Rwanda\"\n",
    "print(\"country:\", country)"
   ]
  },
  {
   "cell_type": "code",
   "execution_count": 23,
   "id": "75146b4f-d7ed-4a5c-b3c6-131a26b8d8b7",
   "metadata": {},
   "outputs": [
    {
     "name": "stdout",
     "output_type": "stream",
     "text": [
      "age before change: 25\n",
      "age after change: 26\n"
     ]
    }
   ],
   "source": [
    "age = 25\n",
    "print(\"age before change:\", age)\n",
    "age = 26\n",
    "print(\"age after change:\", age)"
   ]
  },
  {
   "cell_type": "code",
   "execution_count": 25,
   "id": "88c3b416-9b8d-4c9d-8b0e-c71cc605a2bd",
   "metadata": {},
   "outputs": [
    {
     "name": "stdout",
     "output_type": "stream",
     "text": [
      "result: 13\n"
     ]
    }
   ],
   "source": [
    "result = 20 - 7\n",
    "print(\"result:\", result)"
   ]
  }
 ],
 "metadata": {
  "kernelspec": {
   "display_name": "Python [conda env:base] *",
   "language": "python",
   "name": "conda-base-py"
  },
  "language_info": {
   "codemirror_mode": {
    "name": "ipython",
    "version": 3
   },
   "file_extension": ".py",
   "mimetype": "text/x-python",
   "name": "python",
   "nbconvert_exporter": "python",
   "pygments_lexer": "ipython3",
   "version": "3.12.7"
  }
 },
 "nbformat": 4,
 "nbformat_minor": 5
}
