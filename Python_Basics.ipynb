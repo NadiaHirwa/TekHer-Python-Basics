{
 "cells": [
  {
   "cell_type": "code",
   "execution_count": 7,
   "id": "43d81fbe-0a8b-4035-90dc-d5b46e2e863c",
   "metadata": {},
   "outputs": [
    {
     "name": "stdout",
     "output_type": "stream",
     "text": [
      "x: 10\n"
     ]
    }
   ],
   "source": [
    "x = 10\n",
    "print(\"x:\", x)"
   ]
  },
  {
   "cell_type": "code",
   "execution_count": 9,
   "id": "f48749be-7018-40a4-a665-37bf04d3f2e6",
   "metadata": {},
   "outputs": [
    {
     "name": "stdout",
     "output_type": "stream",
     "text": [
      "is_valid: True\n"
     ]
    }
   ],
   "source": [
    "is_valid = True\n",
    "print(\"is_valid:\",is_valid)"
   ]
  },
  {
   "cell_type": "code",
   "execution_count": 11,
   "id": "841a0f8f-5aa1-4273-85d8-ed98f22a690b",
   "metadata": {},
   "outputs": [
    {
     "name": "stdout",
     "output_type": "stream",
     "text": [
      "name:  Python Programming\n"
     ]
    }
   ],
   "source": [
    "name = \"Python Programming\"\n",
    "print(\"name: \", name)"
   ]
  },
  {
   "cell_type": "code",
   "execution_count": 13,
   "id": "b673ea88-6810-449e-b711-0e3bb70fe15b",
   "metadata": {},
   "outputs": [
    {
     "name": "stdout",
     "output_type": "stream",
     "text": [
      "sum_result: 8\n"
     ]
    }
   ],
   "source": [
    "sum_result = 5 + 3\n",
    "print(\"sum_result:\", sum_result)"
   ]
  },
  {
   "cell_type": "code",
   "execution_count": 15,
   "id": "de14f2d5-0b5d-494a-aacf-5613c77731a7",
   "metadata": {},
   "outputs": [
    {
     "name": "stdout",
     "output_type": "stream",
     "text": [
      "a: 5 b: 10 c: 15\n"
     ]
    }
   ],
   "source": [
    "a, b, c = 5, 10, 15\n",
    "print(\"a:\", a, \"b:\", b, \"c:\", c)"
   ]
  },
  {
   "cell_type": "code",
   "execution_count": 17,
   "id": "2c489c47-df1e-4f46-8c40-d9cd4a7cd615",
   "metadata": {},
   "outputs": [
    {
     "name": "stdout",
     "output_type": "stream",
     "text": [
      "x: 10 y: 10\n"
     ]
    }
   ],
   "source": [
    "x = 10\n",
    "y = x\n",
    "print(\"x:\", x, \"y:\", y)"
   ]
  },
  {
   "cell_type": "code",
   "execution_count": 19,
   "id": "b93a4adf-377b-4aa5-993c-116f7a03426a",
   "metadata": {},
   "outputs": [
    {
     "name": "stdout",
     "output_type": "stream",
     "text": [
      "gravity: 9.8\n"
     ]
    }
   ],
   "source": [
    "gravity = 9.8\n",
    "print(\"gravity:\", gravity)"
   ]
  },
  {
   "cell_type": "code",
   "execution_count": 21,
   "id": "70deedc5-23c6-4a70-ab1e-ac33134a87ba",
   "metadata": {},
   "outputs": [
    {
     "name": "stdout",
     "output_type": "stream",
     "text": [
      "country: Rwanda\n"
     ]
    }
   ],
   "source": [
    "country = \"Rwanda\"\n",
    "print(\"country:\", country)"
   ]
  },
  {
   "cell_type": "code",
   "execution_count": 23,
   "id": "75146b4f-d7ed-4a5c-b3c6-131a26b8d8b7",
   "metadata": {},
   "outputs": [
    {
     "name": "stdout",
     "output_type": "stream",
     "text": [
      "age before change: 25\n",
      "age after change: 26\n"
     ]
    }
   ],
   "source": [
    "age = 25\n",
    "print(\"age before change:\", age)\n",
    "age = 26\n",
    "print(\"age after change:\", age)"
   ]
  },
  {
   "cell_type": "code",
   "execution_count": 25,
   "id": "88c3b416-9b8d-4c9d-8b0e-c71cc605a2bd",
   "metadata": {},
   "outputs": [
    {
     "name": "stdout",
     "output_type": "stream",
     "text": [
      "result: 13\n"
     ]
    }
   ],
   "source": [
    "result = 20 - 7\n",
    "print(\"result:\", result)"
   ]
  },
  {
   "cell_type": "code",
   "execution_count": 27,
   "id": "7cdeaf0f-bbb9-437b-a682-ea405431faf9",
   "metadata": {},
   "outputs": [
    {
     "name": "stdout",
     "output_type": "stream",
     "text": [
      "int value: 100 | float value: 45.67\n"
     ]
    }
   ],
   "source": [
    "int_value = 100\n",
    "float_value = 45.67\n",
    "print(\"int value:\", int_value, \"| float value:\", float_value)"
   ]
  },
  {
   "cell_type": "code",
   "execution_count": 29,
   "id": "8b0eadf5-6ccc-44bd-95b2-f964282cb967",
   "metadata": {},
   "outputs": [
    {
     "name": "stdout",
     "output_type": "stream",
     "text": [
      "is_completed: False\n"
     ]
    }
   ],
   "source": [
    "is_completed = False\n",
    "print(\"is_completed:\", is_completed)"
   ]
  },
  {
   "cell_type": "code",
   "execution_count": 31,
   "id": "8dcb34a5-1baa-44c0-9839-8b562fd72151",
   "metadata": {},
   "outputs": [
    {
     "name": "stdout",
     "output_type": "stream",
     "text": [
      "x: 10 | y: 5\n"
     ]
    }
   ],
   "source": [
    "x = 5\n",
    "y = 10\n",
    "x, y = y, x\n",
    "print(\"x:\", x, \"| y:\", y)"
   ]
  },
  {
   "cell_type": "code",
   "execution_count": 33,
   "id": "8daa4b51-6ca1-4776-8f7a-f460ca20f9b1",
   "metadata": {},
   "outputs": [
    {
     "name": "stdout",
     "output_type": "stream",
     "text": [
      "complex number: (3+4j)\n"
     ]
    }
   ],
   "source": [
    "complex_num = 3 + 4j\n",
    "print(\"complex number:\", complex_num)"
   ]
  },
  {
   "cell_type": "code",
   "execution_count": 35,
   "id": "66815254-e627-4314-8dce-f89c4d56e79f",
   "metadata": {},
   "outputs": [
    {
     "name": "stdout",
     "output_type": "stream",
     "text": [
      "before reassignment (int): 25\n",
      "after reassignment (str): Now it is a string\n"
     ]
    }
   ],
   "source": [
    "my_var = 25\n",
    "print(\"before reassignment (int):\", my_var)\n",
    "\n",
    "my_var = \"Now it is a string\"\n",
    "print(\"after reassignment (str):\", my_var)"
   ]
  },
  {
   "cell_type": "code",
   "execution_count": 37,
   "id": "09314fc1-adf1-466f-80ae-6232d9739239",
   "metadata": {},
   "outputs": [
    {
     "name": "stdout",
     "output_type": "stream",
     "text": [
      "First Name: Nadia | Last Name: IRADUKUNDA HIRWA\n"
     ]
    }
   ],
   "source": [
    "first_name = \"Nadia\"\n",
    "last_name = \"IRADUKUNDA HIRWA\"\n",
    "print(\"First Name:\", first_name, \"| Last Name:\", last_name)"
   ]
  },
  {
   "cell_type": "code",
   "execution_count": 39,
   "id": "f700de82-599e-46f7-b2d6-81cf4baf6e45",
   "metadata": {},
   "outputs": [
    {
     "name": "stdout",
     "output_type": "stream",
     "text": [
      "temperature: 35.5\n"
     ]
    }
   ],
   "source": [
    "temperature = 35.5\n",
    "print(\"temperature:\", temperature)"
   ]
  },
  {
   "cell_type": "code",
   "execution_count": 41,
   "id": "74366171-0687-40e0-9758-ec5b1b961a03",
   "metadata": {},
   "outputs": [
    {
     "name": "stdout",
     "output_type": "stream",
     "text": [
      "product: 48\n"
     ]
    }
   ],
   "source": [
    "product = 8 * 6\n",
    "print(\"product:\", product)"
   ]
  },
  {
   "cell_type": "code",
   "execution_count": 43,
   "id": "db97f6d6-899a-4a8d-bf6c-0a4f9a48e34e",
   "metadata": {},
   "outputs": [
    {
     "name": "stdout",
     "output_type": "stream",
     "text": [
      "sentence: I am learning Python in TekHer program\n"
     ]
    }
   ],
   "source": [
    "sentence = \"I am learning Python in TekHer program\"\n",
    "print(\"sentence:\", sentence)"
   ]
  },
  {
   "cell_type": "code",
   "execution_count": 45,
   "id": "2c488d25-837d-4ccc-9581-3196da165147",
   "metadata": {},
   "outputs": [
    {
     "name": "stdout",
     "output_type": "stream",
     "text": [
      "int_value: 50\n"
     ]
    }
   ],
   "source": [
    "int_value = int('50')\n",
    "print(\"int_value:\", int_value)"
   ]
  },
  {
   "cell_type": "code",
   "execution_count": 47,
   "id": "fb26e474-560a-43ae-801f-4c16f8b9edf8",
   "metadata": {},
   "outputs": [
    {
     "name": "stdout",
     "output_type": "stream",
     "text": [
      "Quotient: 12.0\n"
     ]
    }
   ],
   "source": [
    "# Exercise 21\n",
    "quotient = 144 / 12\n",
    "print(\"Quotient:\", quotient)"
   ]
  },
  {
   "cell_type": "code",
   "execution_count": 49,
   "id": "d2455b87-ee8e-4511-8486-bded00deed3c",
   "metadata": {},
   "outputs": [
    {
     "name": "stdout",
     "output_type": "stream",
     "text": [
      "Remainder: 2\n"
     ]
    }
   ],
   "source": [
    "# Exercise 22\n",
    "remainder = 47 % 5\n",
    "print(\"Remainder:\", remainder)"
   ]
  },
  {
   "cell_type": "code",
   "execution_count": 51,
   "id": "add3a425-16e4-410b-80d0-0854dd3ce862",
   "metadata": {},
   "outputs": [
    {
     "name": "stdout",
     "output_type": "stream",
     "text": [
      "is_student: True\n"
     ]
    }
   ],
   "source": [
    "# Exercise 23\n",
    "is_student = True\n",
    "print(\"is_student:\", is_student)"
   ]
  },
  {
   "cell_type": "code",
   "execution_count": 53,
   "id": "b4425613-f6ba-4bc3-9f1a-e8b509a51e3c",
   "metadata": {},
   "outputs": [
    {
     "name": "stdout",
     "output_type": "stream",
     "text": [
      "Modulo result: 1\n"
     ]
    }
   ],
   "source": [
    "# Exercise 24\n",
    "mod_result = 45 % 4\n",
    "print(\"Modulo result:\", mod_result)"
   ]
  },
  {
   "cell_type": "code",
   "execution_count": 55,
   "id": "10075d9a-2e63-416d-bfe8-f79dd5e9044c",
   "metadata": {},
   "outputs": [
    {
     "name": "stdout",
     "output_type": "stream",
     "text": [
      "Pi: 3.14159\n"
     ]
    }
   ],
   "source": [
    "# Exercise 25\n",
    "pi = 3.14159\n",
    "print(\"Pi:\", pi)"
   ]
  },
  {
   "cell_type": "code",
   "execution_count": 57,
   "id": "c192439b-a535-4039-86be-a5dac00505e7",
   "metadata": {},
   "outputs": [
    {
     "name": "stdout",
     "output_type": "stream",
     "text": [
      "Area: 50\n"
     ]
    }
   ],
   "source": [
    "# Exercise 26\n",
    "length = 10\n",
    "width = 5\n",
    "area = length * width\n",
    "print(\"Area:\", area)"
   ]
  },
  {
   "cell_type": "code",
   "execution_count": 59,
   "id": "87f231e1-30bd-41d2-b9ca-784a1c417fb6",
   "metadata": {},
   "outputs": [
    {
     "name": "stdout",
     "output_type": "stream",
     "text": [
      "Value: -7\n"
     ]
    }
   ],
   "source": [
    "# Exercise 27\n",
    "negative_value = -7\n",
    "print(\"Value:\", negative_value)"
   ]
  },
  {
   "cell_type": "code",
   "execution_count": 61,
   "id": "99993d56-eed7-4acc-8f97-b779b28cec5c",
   "metadata": {},
   "outputs": [
    {
     "name": "stdout",
     "output_type": "stream",
     "text": [
      "Greetings: Hello, World!\n"
     ]
    }
   ],
   "source": [
    "# Exercise 28\n",
    "greeting = \"Hello, World!\"\n",
    "print(\"Greetings:\", greeting)"
   ]
  },
  {
   "cell_type": "code",
   "execution_count": 63,
   "id": "4ffc93a0-faf0-4c78-bd33-9966c317d185",
   "metadata": {},
   "outputs": [
    {
     "name": "stdout",
     "output_type": "stream",
     "text": [
      "population: 7900000000\n"
     ]
    }
   ],
   "source": [
    "# Exercise 29\n",
    "population = 7_900_000_000  # 7.9 billion\n",
    "print(\"population:\", population)"
   ]
  },
  {
   "cell_type": "code",
   "execution_count": 65,
   "id": "797249eb-b7f2-416b-a5b3-5361ba457a99",
   "metadata": {},
   "outputs": [
    {
     "name": "stdout",
     "output_type": "stream",
     "text": [
      "Result: 256\n"
     ]
    }
   ],
   "source": [
    "# Exercise 30\n",
    "power_result = 2 ** 8\n",
    "print(\"Result:\", power_result)"
   ]
  }
 ],
 "metadata": {
  "kernelspec": {
   "display_name": "Python [conda env:base] *",
   "language": "python",
   "name": "conda-base-py"
  },
  "language_info": {
   "codemirror_mode": {
    "name": "ipython",
    "version": 3
   },
   "file_extension": ".py",
   "mimetype": "text/x-python",
   "name": "python",
   "nbconvert_exporter": "python",
   "pygments_lexer": "ipython3",
   "version": "3.12.7"
  }
 },
 "nbformat": 4,
 "nbformat_minor": 5
}
