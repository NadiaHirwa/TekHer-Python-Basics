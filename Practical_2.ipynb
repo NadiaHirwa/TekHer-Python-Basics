{
 "cells": [
  {
   "cell_type": "markdown",
   "id": "d68c1dee",
   "metadata": {},
   "source": [
    "# Practical_2: String and files"
   ]
  },
  {
   "cell_type": "markdown",
   "id": "bea983a3",
   "metadata": {},
   "source": [
    "---\n",
    "\n",
    "### Exercise 1:\n",
    "Create a string variable `text` and assign it the value `\"Python is amazing!\"`.\n",
    "\n",
    "```python\n",
    "# Exercise 1\n",
    "```\n",
    "\n",
    "---\n",
    "\n",
    "### Exercise 2:\n",
    "Find the length of the string `\"Hello, World!\"` and store it in a variable `length`.\n",
    "\n",
    "```python\n",
    "# Exercise 2\n",
    "```\n",
    "\n",
    "---\n",
    "\n",
    "### Exercise 3:\n",
    "Convert the string `\"python programming\"` to uppercase and store it in a variable `upper_text`.\n",
    "\n",
    "```python\n",
    "# Exercise 3\n",
    "```\n",
    "\n",
    "---\n",
    "\n",
    "### Exercise 4:\n",
    "Extract the first 5 characters from the string `\"Artificial Intelligence\"`.\n",
    "\n",
    "```python\n",
    "# Exercise 4\n",
    "```\n",
    "\n",
    "---\n",
    "\n",
    "### Exercise 5:\n",
    "Concatenate the strings `\"Hello\"` and `\"World\"` with a space in between.\n",
    "\n",
    "```python\n",
    "# Exercise 5\n",
    "```\n",
    "\n",
    "---\n",
    "\n",
    "### Exercise 6:\n",
    "Replace the word `\"dog\"` with `\"cat\"` in the string `\"The quick brown dog jumps over the lazy dog.\"`.\n",
    "\n",
    "```python\n",
    "# Exercise 6\n",
    "```\n",
    "\n",
    "---\n",
    "\n",
    "### Exercise 7:\n",
    "Split the string `\"apple,banana,orange\"` by commas and store the result in a list `fruits_list`.\n",
    "\n",
    "```python\n",
    "# Exercise 7\n",
    "```\n",
    "\n",
    "---\n",
    "\n",
    "### Exercise 8:\n",
    "Use string formatting to create the sentence `\"My name is Alice and I am 25 years old.\"`, where the name and age are variables.\n",
    "\n",
    "```python\n",
    "# Exercise 8\n",
    "```\n",
    "\n",
    "---\n",
    "\n",
    "### Exercise 9:\n",
    "Check if the string `\"python\"` is present in the sentence `\"I love python programming\"`.\n",
    "\n",
    "```python\n",
    "# Exercise 9\n",
    "```\n",
    "\n",
    "---\n",
    "\n",
    "### Exercise 10:\n",
    "Count the number of occurrences of the letter `\"e\"` in the string `\"Elephant is an elegant animal\"`.\n",
    "\n",
    "```python\n",
    "# Exercise 10\n",
    "```\n",
    "\n",
    "---\n",
    "\n",
    "### Exercise 11:\n",
    "Remove any leading and trailing spaces from the string `\"   Data Science   \"`.\n",
    "\n",
    "```python\n",
    "# Exercise 11\n",
    "```\n",
    "\n",
    "---\n",
    "\n",
    "### Exercise 12:\n",
    "Convert the string `\"100\"` into an integer and store it in a variable `int_value`.\n",
    "\n",
    "```python\n",
    "# Exercise 12\n",
    "```\n",
    "\n",
    "---\n",
    "\n",
    "### Exercise 13:\n",
    "Extract the substring `\"pro\"` from the string `\"programming\"`.\n",
    "\n",
    "```python\n",
    "# Exercise 13\n",
    "```\n",
    "\n",
    "---\n",
    "\n",
    "### Exercise 14:\n",
    "Check if the string `\"data\"` starts with `\"da\"` and ends with `\"ta\"`.\n",
    "\n",
    "```python\n",
    "# Exercise 14\n",
    "```\n",
    "\n",
    "---\n",
    "\n",
    "### Exercise 15:\n",
    "Reverse the string `\"machine learning\"` and store the result in `reversed_text`.\n",
    "\n",
    "```python\n",
    "# Exercise 15\n",
    "```\n",
    "\n",
    "---\n",
    "\n",
    "### Exercise 16:\n",
    "Convert the first letter of each word in the string `\"machine learning is fun\"` to uppercase.\n",
    "\n",
    "```python\n",
    "# Exercise 16\n",
    "```\n",
    "\n",
    "---\n",
    "\n",
    "### Exercise 17:\n",
    "Create a multiline string representing a poem and store it in a variable `poem`.\n",
    "\n",
    "```python\n",
    "# Exercise 17\n",
    "```\n",
    "\n",
    "---\n",
    "\n",
    "### Exercise 18:\n",
    "Write a string to a file named `\"output.txt\"`.\n",
    "\n",
    "```python\n",
    "# Exercise 18\n",
    "```\n",
    "\n",
    "---\n",
    "\n",
    "### Exercise 19:\n",
    "Read the contents of a file named `\"data.txt\"` and print it line by line.\n",
    "\n",
    "```python\n",
    "# Exercise 19\n",
    "```\n",
    "\n",
    "---\n",
    "\n",
    "### Exercise 20:\n",
    "Check if a file `\"example.txt\"` exists before opening it.\n",
    "\n",
    "```python\n",
    "# Exercise 20\n",
    "```\n",
    "\n",
    "---\n",
    "\n",
    "### Exercise 21:\n",
    "Append a new line `\"This is a new line\"` to an existing file `\"notes.txt\"`.\n",
    "\n",
    "```python\n",
    "# Exercise 21\n",
    "```\n",
    "\n",
    "---\n",
    "\n",
    "### Exercise 22:\n",
    "Read the contents of a file `\"log.txt\"` and store each line in a list `log_lines`.\n",
    "\n",
    "```python\n",
    "# Exercise 22\n",
    "```\n",
    "\n",
    "---\n",
    "\n",
    "### Exercise 23:\n",
    "Create a new file `\"report.txt\"` and write the string `\"Data analysis report\"` to it.\n",
    "\n",
    "```python\n",
    "# Exercise 23\n",
    "```\n",
    "\n",
    "---\n",
    "\n",
    "### Exercise 24:\n",
    "Replace the word `\"error\"` with `\"issue\"` in a file `\"log.txt\"`.\n",
    "\n",
    "```python\n",
    "# Exercise 24\n",
    "```\n",
    "\n",
    "---\n",
    "\n",
    "### Exercise 25:\n",
    "Count the number of words in a text file `\"document.txt\"`.\n",
    "\n",
    "```python\n",
    "# Exercise 25\n",
    "```\n",
    "\n",
    "---\n",
    "\n",
    "### Exercise 26:\n",
    "Write a Python script that reads a file `\"essay.txt\"` and prints the total number of lines, words, and characters.\n",
    "\n",
    "```python\n",
    "# Exercise 26\n",
    "```\n",
    "\n",
    "---\n",
    "\n",
    "### Exercise 27:\n",
    "Copy the contents of one file `\"source.txt\"` to another file `\"destination.txt\"`.\n",
    "\n",
    "```python\n",
    "# Exercise 27\n",
    "```\n",
    "\n",
    "---\n",
    "\n",
    "### Exercise 28:\n",
    "Write a Python function that takes a filename as input and returns the number of lines in the file.\n",
    "\n",
    "```python\n",
    "# Exercise 28\n",
    "```\n",
    "\n",
    "---\n",
    "\n",
    "### Exercise 29:\n",
    "Extract all the words from a text file `\"article.txt\"` that contain more than 5 characters.\n",
    "\n",
    "```python\n",
    "# Exercise 29\n",
    "```\n",
    "\n",
    "---\n",
    "\n",
    "### Exercise 30:\n",
    "Convert the contents of a file `\"notes.txt\"` to uppercase and save the result in another file `\"uppercase_notes.txt\"`.\n",
    "\n",
    "```python\n",
    "# Exercise 30\n",
    "```\n",
    "\n",
    "---\n",
    "\n",
    "### Exercise 31:\n",
    "Write a Python script that reads a file and removes all empty lines.\n",
    "\n",
    "```python\n",
    "# Exercise 31\n",
    "```\n",
    "\n",
    "---\n",
    "\n",
    "### Exercise 32:\n",
    "Open a file `\"config.txt\"` in both read and write mode.\n",
    "\n",
    "```python\n",
    "# Exercise 32\n",
    "```\n",
    "\n",
    "---\n",
    "\n",
    "### Exercise 33:\n",
    "Write a Python function that reads a file and prints the longest line in the file.\n",
    "\n",
    "```python\n",
    "# Exercise 33\n",
    "```\n",
    "\n",
    "---\n",
    "\n",
    "### Exercise 34:\n",
    "Write a Python script to count the frequency of each letter in a text file `\"message.txt\"`.\n",
    "\n",
    "```python\n",
    "# Exercise 34\n",
    "```\n",
    "\n",
    "---\n",
    "\n",
    "### Exercise 35:\n",
    "Write a Python script that reads a file and prints the total number of characters, excluding spaces.\n",
    "\n",
    "```python\n",
    "# Exercise 35\n",
    "```\n",
    "\n",
    "---\n",
    "\n",
    "### Exercise 36:\n",
    "Create a Python script to check whether a file is empty or not.\n",
    "\n",
    "```python\n",
    "# Exercise 36\n",
    "```\n",
    "\n",
    "---\n",
    "\n",
    "### Exercise 37:\n",
    "Write a Python function that reads a file and removes all punctuation marks from the text.\n",
    "\n",
    "```python\n",
    "# Exercise 37\n",
    "```\n",
    "\n",
    "---\n",
    "\n",
    "### Exercise 38:\n",
    "Create a Python function that writes a list of strings to a file, each string on a new line.\n",
    "\n",
    "```python\n",
    "# Exercise 38\n",
    "```\n",
    "\n",
    "---\n",
    "\n",
    "### Exercise 39:\n",
    "Write a Python script to count the number of lines that start with a specific letter (e.g., \"A\") in a text file.\n",
    "\n",
    "```python\n",
    "# Exercise 39\n",
    "```\n",
    "\n",
    "---\n",
    "\n",
    "### Exercise 40:\n",
    "Write a Python function that takes a string as input and writes it to a file `\"output.txt\"` in reverse order.\n",
    "\n",
    "```python\n",
    "# Exercise 40\n",
    "```\n",
    "\n",
    "---\n",
    "\n",
    "### Exercise 41:\n",
    "Write a Python script that reads a file and prints all the lines that contain the word `\"Python\"`.\n",
    "\n",
    "```python\n",
    "# Exercise 41\n",
    "```\n",
    "\n",
    "---\n",
    "\n",
    "### Exercise 42:\n",
    "Write a Python script that opens a file and removes all numeric digits from the file's content.\n",
    "\n",
    "```python\n",
    "# Exercise 42\n",
    "```\n",
    "\n",
    "---\n",
    "\n",
    "### Exercise 43:\n",
    "Write a Python script to find the most frequent word in a text file `\"book.txt\"`.\n",
    "\n",
    "```python\n",
    "# Exercise 43\n",
    "```\n",
    "\n",
    "---\n",
    "\n",
    "### Exercise 44:\n",
    "Write a Python script that reads a file and prints all the lines that contain exactly 5 words.\n",
    "\n",
    "```python\n",
    "# Exercise 44\n",
    "```\n",
    "\n",
    "---\n",
    "\n",
    "### Exercise 45:\n",
    "Write a Python script to read a file and print the first and last line of the file.\n",
    "\n",
    "```python\n",
    "# Exercise 45\n",
    "```\n",
    "\n",
    "---\n",
    "\n",
    "### Exercise 46:\n",
    "Write a Python script that checks if a file `\"students.txt\"` is writable.\n",
    "\n",
    "```python\n",
    "# Exercise 46\n",
    "```\n",
    "\n",
    "---\n",
    "\n",
    "### Exercise 47:\n",
    "Create a Python function that opens a file and returns the number of unique words in the file.\n",
    "\n",
    "```python\n",
    "# Exercise 47\n",
    "```\n",
    "\n",
    "---\n",
    "\n",
    "### Exercise 48:\n",
    "Write a Python script that reads a file and prints all lines in reverse order.\n",
    "\n",
    "```python\n",
    "# Exercise 48\n",
    "```\n",
    "\n",
    "---\n",
    "\n",
    "### Exercise 49:\n",
    "Write a Python function that reads a file and returns the most common letter in the text.\n",
    "\n",
    "```python\n",
    "# Exercise 49\n",
    "```\n",
    "\n",
    "---\n",
    "\n",
    "### Exercise 50:\n",
    "Write a Python script that reads a file and replaces every occurrence of `\"Python\"` with `\"Java\"`.\n",
    "\n",
    "```python\n",
    "# Exercise 50\n",
    "```\n",
    "\n",
    "---\n",
    "\n"
   ]
  },
  {
   "cell_type": "markdown",
   "id": "0690f76b-e938-45d3-8298-239730acc8bc",
   "metadata": {},
   "source": [
    "# ANSWERS"
   ]
  },
  {
   "cell_type": "markdown",
   "id": "41e63efb-c811-4808-ac88-164719a0e5b2",
   "metadata": {},
   "source": [
    "### Exercise 1"
   ]
  },
  {
   "cell_type": "code",
   "execution_count": 8,
   "id": "03368a7c-4e6e-4a77-9edd-10da928048d1",
   "metadata": {},
   "outputs": [
    {
     "name": "stdout",
     "output_type": "stream",
     "text": [
      "text: Python is amazing!\n"
     ]
    }
   ],
   "source": [
    "# Exercise 1\n",
    "text = \"Python is amazing!\"\n",
    "print(\"text:\", text)"
   ]
  },
  {
   "cell_type": "markdown",
   "id": "44e53670-93b1-45cf-ab39-58b16346f4b5",
   "metadata": {},
   "source": [
    "### Exercise 2"
   ]
  },
  {
   "cell_type": "code",
   "execution_count": 11,
   "id": "c7b8310b-7d53-401b-9c58-fb6136ccc2e9",
   "metadata": {},
   "outputs": [
    {
     "name": "stdout",
     "output_type": "stream",
     "text": [
      "length: 13\n"
     ]
    }
   ],
   "source": [
    "# Exercise 2\n",
    "length = len(\"Hello, World!\")\n",
    "print(\"length:\", length)"
   ]
  },
  {
   "cell_type": "markdown",
   "id": "b19e5318-6c79-4e73-84df-a220761d9a41",
   "metadata": {},
   "source": [
    "### Exercise 3"
   ]
  },
  {
   "cell_type": "code",
   "execution_count": 14,
   "id": "14837e38-33a2-4b96-bec0-c7e67d66f144",
   "metadata": {},
   "outputs": [
    {
     "name": "stdout",
     "output_type": "stream",
     "text": [
      "upper_text: PYTHON PROGRAMMING\n"
     ]
    }
   ],
   "source": [
    "# Exercise 3\n",
    "upper_text = \"python programming\".upper()\n",
    "print(\"upper_text:\", upper_text)"
   ]
  },
  {
   "cell_type": "markdown",
   "id": "57903917-03dc-4785-8441-14057b0181ae",
   "metadata": {},
   "source": [
    "### Exercise 4"
   ]
  },
  {
   "cell_type": "code",
   "execution_count": 17,
   "id": "bcb184a8-b837-428d-92d5-d60cf9436429",
   "metadata": {},
   "outputs": [
    {
     "name": "stdout",
     "output_type": "stream",
     "text": [
      "first 5 characters: Artif\n"
     ]
    }
   ],
   "source": [
    "# Exercise 4\n",
    "substring = \"Artificial Intelligence\"[:5]\n",
    "print(\"first 5 characters:\", substring)"
   ]
  },
  {
   "cell_type": "markdown",
   "id": "4f8ebb9b-bbd1-4181-b793-1e86e8fdd9b7",
   "metadata": {},
   "source": [
    "### Exercise 5"
   ]
  },
  {
   "cell_type": "code",
   "execution_count": 20,
   "id": "12343191-2abe-46a4-b881-c447534dc99e",
   "metadata": {},
   "outputs": [
    {
     "name": "stdout",
     "output_type": "stream",
     "text": [
      "concatenated string: Hello World\n"
     ]
    }
   ],
   "source": [
    "# Exercise 5\n",
    "greeting = \"Hello\" + \" \" + \"World\"\n",
    "print(\"concatenated string:\", greeting)"
   ]
  },
  {
   "cell_type": "markdown",
   "id": "03c9102c-683a-470e-97cb-4e7ee40977ee",
   "metadata": {},
   "source": [
    "### Exercise 6"
   ]
  },
  {
   "cell_type": "code",
   "execution_count": 23,
   "id": "bc9fc520-b27b-4b7d-9bb7-d0dd68646997",
   "metadata": {},
   "outputs": [
    {
     "name": "stdout",
     "output_type": "stream",
     "text": [
      "replaced string: The quick brown cat jumps over the lazy cat.\n"
     ]
    }
   ],
   "source": [
    "# Exercise 6\n",
    "sentence = \"The quick brown dog jumps over the lazy dog.\".replace(\"dog\", \"cat\")\n",
    "print(\"replaced string:\", sentence)"
   ]
  },
  {
   "cell_type": "markdown",
   "id": "ecb9c381-745c-472c-acb8-b5e0b40dda92",
   "metadata": {},
   "source": [
    "### Exercise 7"
   ]
  },
  {
   "cell_type": "code",
   "execution_count": 26,
   "id": "bbfeb334-6495-4f81-a401-395a33cdc172",
   "metadata": {},
   "outputs": [
    {
     "name": "stdout",
     "output_type": "stream",
     "text": [
      "fruits list: ['apple', 'banana', 'orange']\n"
     ]
    }
   ],
   "source": [
    "# Exercise 7\n",
    "fruits_list = \"apple,banana,orange\".split(\",\")\n",
    "print(\"fruits list:\", fruits_list)"
   ]
  },
  {
   "cell_type": "markdown",
   "id": "2684c08d-5501-43a2-a0f6-78da0d56894e",
   "metadata": {},
   "source": [
    "### Exercise 8"
   ]
  },
  {
   "cell_type": "code",
   "execution_count": 31,
   "id": "acf4621b-b86f-4212-8a73-fbf438ca3b08",
   "metadata": {},
   "outputs": [
    {
     "name": "stdout",
     "output_type": "stream",
     "text": [
      "Formatted sentence: My name is Alice and I am 25 years old.\n"
     ]
    }
   ],
   "source": [
    "# Exercise 8\n",
    "name = \"Alice\"\n",
    "age = 25\n",
    "formatted_sentence = f\"My name is {name} and I am {age} years old.\"\n",
    "print(\"Formatted sentence:\", formatted_sentence)"
   ]
  },
  {
   "cell_type": "markdown",
   "id": "c9ed21a4-a5cd-4f6b-902a-2364dface28b",
   "metadata": {},
   "source": [
    "### Exercise 9"
   ]
  },
  {
   "cell_type": "code",
   "execution_count": 86,
   "id": "cd422bbb-20db-4357-a476-675f8054f9b5",
   "metadata": {},
   "outputs": [
    {
     "name": "stdout",
     "output_type": "stream",
     "text": [
      "'python' present: True\n"
     ]
    }
   ],
   "source": [
    "# Exercise 9\n",
    "sentence_check = \"I love python programming\"\n",
    "is_present = \"python\" in sentence_check\n",
    "print(\"'python' present:\", is_present)"
   ]
  },
  {
   "cell_type": "markdown",
   "id": "9b78c242-9c82-40ca-9c0c-0be4f658a709",
   "metadata": {},
   "source": [
    "### Exercise 10"
   ]
  },
  {
   "cell_type": "code",
   "execution_count": 88,
   "id": "c9a4a947-7e74-4d44-a225-7436e5bf0efa",
   "metadata": {},
   "outputs": [
    {
     "name": "stdout",
     "output_type": "stream",
     "text": [
      "number of 'e': 3\n"
     ]
    }
   ],
   "source": [
    "# Exercise 10\n",
    "e_count = \"Elephant is an elegant animal\".count(\"e\")\n",
    "print(\"number of 'e':\", e_count)"
   ]
  },
  {
   "cell_type": "markdown",
   "id": "c4edb997-f96e-492b-88cd-333c55e00e6d",
   "metadata": {},
   "source": [
    "### Exercise 11"
   ]
  },
  {
   "cell_type": "code",
   "execution_count": 90,
   "id": "f9039ca6-51f8-49d7-9ba1-84f3dcff9377",
   "metadata": {},
   "outputs": [
    {
     "name": "stdout",
     "output_type": "stream",
     "text": [
      "trimmed text: Data Science\n"
     ]
    }
   ],
   "source": [
    "# Exercise 11\n",
    "text = \"   Data Science   \".strip()\n",
    "print(\"trimmed text:\", text)"
   ]
  },
  {
   "cell_type": "markdown",
   "id": "82e28626-e295-44ae-89b5-fa675fd3e0f3",
   "metadata": {},
   "source": [
    "### Exercise 12"
   ]
  },
  {
   "cell_type": "code",
   "execution_count": 92,
   "id": "b1cb7143-2b70-4e87-ba8b-4de5aca4d1b0",
   "metadata": {},
   "outputs": [
    {
     "name": "stdout",
     "output_type": "stream",
     "text": [
      "Integer value: 100\n"
     ]
    }
   ],
   "source": [
    "# Exercise 12\n",
    "int_value = int(\"100\")\n",
    "print(\"Integer value:\", int_value)"
   ]
  },
  {
   "cell_type": "markdown",
   "id": "c9939e16-755f-4406-a702-eb51ceb0872d",
   "metadata": {},
   "source": [
    "### Exercise 13"
   ]
  },
  {
   "cell_type": "code",
   "execution_count": 94,
   "id": "0e6a8d9b-0144-4725-ba10-ff66b3eee4bf",
   "metadata": {},
   "outputs": [
    {
     "name": "stdout",
     "output_type": "stream",
     "text": [
      "Extracted substring: pro\n"
     ]
    }
   ],
   "source": [
    "# Exercise 13\n",
    "substring = \"programming\"[0:3]\n",
    "print(\"Extracted substring:\", substring)"
   ]
  },
  {
   "cell_type": "markdown",
   "id": "27ce8278-7c38-48a1-a119-b6ef0eeea4b6",
   "metadata": {},
   "source": [
    "### Exercise 14"
   ]
  },
  {
   "cell_type": "code",
   "execution_count": 96,
   "id": "2fef1128-2c7a-41c5-a748-269c0259e779",
   "metadata": {},
   "outputs": [
    {
     "name": "stdout",
     "output_type": "stream",
     "text": [
      "starts with 'da': True\n",
      "ends with 'ta': True\n"
     ]
    }
   ],
   "source": [
    "# Exercise 14\n",
    "word = \"data\"\n",
    "starts = word.startswith(\"da\")\n",
    "ends = word.endswith(\"ta\")\n",
    "print(\"starts with 'da':\", starts)\n",
    "print(\"ends with 'ta':\", ends)"
   ]
  },
  {
   "cell_type": "markdown",
   "id": "0a284eb8-4b87-4ef3-b26e-2185ac9ab2d2",
   "metadata": {},
   "source": [
    "### Exercise 15"
   ]
  },
  {
   "cell_type": "code",
   "execution_count": 98,
   "id": "3c1146c5-893f-4b7b-b862-bf349889e26c",
   "metadata": {},
   "outputs": [
    {
     "name": "stdout",
     "output_type": "stream",
     "text": [
      "reversed text: gninrael enihcam\n"
     ]
    }
   ],
   "source": [
    "# Exercise 15\n",
    "reversed_text = \"machine learning\"[::-1]\n",
    "print(\"reversed text:\", reversed_text)"
   ]
  },
  {
   "cell_type": "markdown",
   "id": "c47687a3-63a2-4c39-b821-e2af27042334",
   "metadata": {},
   "source": [
    "### Exercise 16"
   ]
  },
  {
   "cell_type": "code",
   "execution_count": 100,
   "id": "c4aec722-3d87-46ee-a84d-69177d1e5cc9",
   "metadata": {},
   "outputs": [
    {
     "name": "stdout",
     "output_type": "stream",
     "text": [
      "capitalized text: Machine Learning Is Fun\n"
     ]
    }
   ],
   "source": [
    "# Exercise 16\n",
    "capitalized_text = \"machine learning is fun\".title()\n",
    "print(\"capitalized text:\", capitalized_text)"
   ]
  },
  {
   "cell_type": "markdown",
   "id": "7828b7c8-0141-48f3-85ac-8db950294e02",
   "metadata": {},
   "source": [
    "### Exercise 17"
   ]
  },
  {
   "cell_type": "code",
   "execution_count": 104,
   "id": "cc34eb04-a0d6-4790-8a72-c8c5da480915",
   "metadata": {},
   "outputs": [
    {
     "name": "stdout",
     "output_type": "stream",
     "text": [
      "poem:\n",
      " Roses are red,\n",
      "Violets are blue,\n",
      "Python is hard,\n",
      "And so are all languages.\n"
     ]
    }
   ],
   "source": [
    "# Exercise 17\n",
    "poem = \"\"\"Roses are red,\n",
    "Violets are blue,\n",
    "Python is hard,\n",
    "And so are all languages.\"\"\"\n",
    "print(\"poem:\\n\", poem)"
   ]
  },
  {
   "cell_type": "markdown",
   "id": "8a1cbe21-0da7-40ba-ade0-c88467651fb0",
   "metadata": {},
   "source": [
    "### Exercise 18"
   ]
  },
  {
   "cell_type": "code",
   "execution_count": 3,
   "id": "461ada78-46cd-4e4a-8d28-19b313ca91d8",
   "metadata": {},
   "outputs": [
    {
     "name": "stdout",
     "output_type": "stream",
     "text": [
      "String written to 'output.txt' at the specified location.\n"
     ]
    }
   ],
   "source": [
    "# Exercise 18\n",
    "file_path_18 = r\"C:\\Users\\user\\Documents\\tekHer\\TekHer-Python-Basics\\data\\output.txt\"\n",
    "with open(file_path_18, \"w\") as file:\n",
    "    file.write(\"This is a sample output string.\")\n",
    "print(\"String written to 'output.txt' at the specified location.\")"
   ]
  },
  {
   "cell_type": "markdown",
   "id": "41cd6e65-3d84-4fcf-841c-3971c0a327dc",
   "metadata": {},
   "source": [
    "### Exercise 19"
   ]
  },
  {
   "cell_type": "code",
   "execution_count": 5,
   "id": "7bb7981c-82b9-4152-81c9-752b14bcde51",
   "metadata": {},
   "outputs": [
    {
     "name": "stdout",
     "output_type": "stream",
     "text": [
      "contents of 'data.txt':\n",
      "Name,Age,Score\n",
      "Alice,23,85\n",
      "Bob,30,90\n",
      "Charlie,25,88\n"
     ]
    }
   ],
   "source": [
    "# Exercise 19\n",
    "file_path_19 = r\"C:\\Users\\user\\Documents\\tekHer\\TekHer-Python-Basics\\data\\data.txt\"\n",
    "try:\n",
    "    with open(file_path_19, \"r\") as file:\n",
    "        print(\"contents of 'data.txt':\")\n",
    "        for line in file:\n",
    "            print(line.strip())\n",
    "except FileNotFoundError:\n",
    "    print(\"'data.txt' not found at the specified location.\")"
   ]
  },
  {
   "cell_type": "markdown",
   "id": "2d7fcbdf-26dc-4b89-9228-f85a4743289f",
   "metadata": {},
   "source": [
    "### Exercise 20"
   ]
  },
  {
   "cell_type": "code",
   "execution_count": 7,
   "id": "b6b5444e-9bd5-487d-95c3-35281024af59",
   "metadata": {},
   "outputs": [
    {
     "name": "stdout",
     "output_type": "stream",
     "text": [
      "'example.txt' opened successfully.\n"
     ]
    }
   ],
   "source": [
    "# Exercise 20\n",
    "file_path_20 = r\"C:\\Users\\user\\Documents\\tekHer\\TekHer-Python-Basics\\data\\example.txt\"\n",
    "import os\n",
    "if os.path.exists(file_path_20):\n",
    "    with open(file_path_20, \"r\") as file:\n",
    "        print(\"'example.txt' opened successfully.\")\n",
    "else:\n",
    "    print(\"'example.txt' does not exist at the specified location.\")"
   ]
  },
  {
   "cell_type": "markdown",
   "id": "39f23ef3-7e73-4ac1-82e7-def6900bd5fd",
   "metadata": {},
   "source": [
    "### Exercise 21"
   ]
  },
  {
   "cell_type": "code",
   "execution_count": 9,
   "id": "4da10607-2961-4f5c-85a8-bfed69967daa",
   "metadata": {},
   "outputs": [
    {
     "name": "stdout",
     "output_type": "stream",
     "text": [
      "New line appended to 'notes.txt'.\n"
     ]
    }
   ],
   "source": [
    "# Exercise 21\n",
    "file_path_21 = r\"C:\\Users\\user\\Documents\\tekHer\\TekHer-Python-Basics\\data\\notes.txt\"\n",
    "with open(file_path_21, \"a\") as file:\n",
    "    file.write(\"\\nThis is a new line\")\n",
    "print(\"New line appended to 'notes.txt'.\")"
   ]
  },
  {
   "cell_type": "markdown",
   "id": "74f63987-ed9c-4c89-8a28-d9bbbc5f64dc",
   "metadata": {},
   "source": [
    "### Exercise 22"
   ]
  },
  {
   "cell_type": "code",
   "execution_count": 11,
   "id": "92e05e4b-a147-404e-b97d-b708a0138805",
   "metadata": {},
   "outputs": [
    {
     "name": "stdout",
     "output_type": "stream",
     "text": [
      "Lines from 'log.txt' stored in a list: ['2024-05-20 10:00:00 INFO Program started\\n', '2024-05-20 10:05:00 ERROR Invalid input\\n']\n"
     ]
    }
   ],
   "source": [
    "# Exercise 22\n",
    "file_path_22 = r\"C:\\Users\\user\\Documents\\tekHer\\TekHer-Python-Basics\\data\\log.txt\"\n",
    "with open(file_path_22, \"r\") as file:\n",
    "    log_lines = file.readlines()\n",
    "print(\"Lines from 'log.txt' stored in a list:\", log_lines)"
   ]
  },
  {
   "cell_type": "markdown",
   "id": "3346366f-c2b3-4bdd-a02a-4391a2854c2b",
   "metadata": {},
   "source": [
    "### Exercise 23"
   ]
  },
  {
   "cell_type": "code",
   "execution_count": 13,
   "id": "76fef1f2-b55a-4dba-86e5-764e39bccbe3",
   "metadata": {},
   "outputs": [
    {
     "name": "stdout",
     "output_type": "stream",
     "text": [
      "Report written to 'report.txt'.\n"
     ]
    }
   ],
   "source": [
    "# Exercise 23\n",
    "file_path_23 = r\"C:\\Users\\user\\Documents\\tekHer\\TekHer-Python-Basics\\data\\report.txt\"\n",
    "with open(file_path_23, \"w\") as file:\n",
    "    file.write(\"Data analysis report\")\n",
    "print(\"Report written to 'report.txt'.\")"
   ]
  },
  {
   "cell_type": "markdown",
   "id": "ac428460-5afd-48fb-90bb-f12a353d5f27",
   "metadata": {},
   "source": [
    "### Exercise 24"
   ]
  },
  {
   "cell_type": "code",
   "execution_count": 21,
   "id": "48f02a23-6039-4da9-be9f-b58bdeb3b92d",
   "metadata": {},
   "outputs": [
    {
     "name": "stdout",
     "output_type": "stream",
     "text": [
      "Replaced 'ERROR' with 'ISSUE' in 'log.txt'.\n"
     ]
    }
   ],
   "source": [
    "# Exercise 24\n",
    "file_path_24 = r\"C:\\Users\\user\\Documents\\tekHer\\TekHer-Python-Basics\\data\\log.txt\"\n",
    "with open(file_path_24, \"r\") as file:\n",
    "    content = file.read()\n",
    "updated_content = content.replace(\"ERROR\", \"ISSUE\")\n",
    "with open(file_path_24, \"w\") as file:\n",
    "    file.write(updated_content)\n",
    "print(\"Replaced 'ERROR' with 'ISSUE' in 'log.txt'.\")"
   ]
  },
  {
   "cell_type": "markdown",
   "id": "505cf171-d737-4e93-b0ec-b65759ce60c4",
   "metadata": {},
   "source": [
    "### Exercise 25"
   ]
  },
  {
   "cell_type": "code",
   "execution_count": 23,
   "id": "ecd2b528-f113-49ab-ae4e-e72e7e5c2af0",
   "metadata": {},
   "outputs": [
    {
     "name": "stdout",
     "output_type": "stream",
     "text": [
      "Total number of words in 'document.txt': 12\n"
     ]
    }
   ],
   "source": [
    "# Exercise 25\n",
    "file_path_25 = r\"C:\\Users\\user\\Documents\\tekHer\\TekHer-Python-Basics\\data\\document.txt\"\n",
    "with open(file_path_25, \"r\") as file:\n",
    "    text = file.read()\n",
    "word_count = len(text.split())\n",
    "print(\"Total number of words in 'document.txt':\", word_count)"
   ]
  },
  {
   "cell_type": "markdown",
   "id": "708e2817-159d-4e74-964f-9601f86b73bb",
   "metadata": {},
   "source": [
    "### Exercise 26"
   ]
  },
  {
   "cell_type": "code",
   "execution_count": 25,
   "id": "99439c02-5ff6-427d-930c-094ec220a77c",
   "metadata": {},
   "outputs": [
    {
     "name": "stdout",
     "output_type": "stream",
     "text": [
      "Lines: 1\n",
      "Words: 10\n",
      "Characters: 66\n"
     ]
    }
   ],
   "source": [
    "# Exercise 26\n",
    "file_path_26 = r\"C:\\Users\\user\\Documents\\tekHer\\TekHer-Python-Basics\\data\\essay.txt\"\n",
    "with open(file_path_26, \"r\") as file:\n",
    "    lines = file.readlines()\n",
    "    total_lines = len(lines)\n",
    "    total_words = sum(len(line.split()) for line in lines)\n",
    "    total_chars = sum(len(line) for line in lines)\n",
    "print(\"Lines:\", total_lines)\n",
    "print(\"Words:\", total_words)\n",
    "print(\"Characters:\", total_chars)"
   ]
  },
  {
   "cell_type": "markdown",
   "id": "1f51b37d-10de-49f6-80cd-afe336231b2f",
   "metadata": {},
   "source": [
    "### Exercise 27"
   ]
  },
  {
   "cell_type": "code",
   "execution_count": 27,
   "id": "111e4540-1955-489a-a149-e66b4ed8bce6",
   "metadata": {},
   "outputs": [
    {
     "name": "stdout",
     "output_type": "stream",
     "text": [
      "Contents copied from 'source.txt' to 'destination.txt'.\n"
     ]
    }
   ],
   "source": [
    "# Exercise 27\n",
    "src_path = r\"C:\\Users\\user\\Documents\\tekHer\\TekHer-Python-Basics\\data\\source.txt\"\n",
    "dst_path = r\"C:\\Users\\user\\Documents\\tekHer\\TekHer-Python-Basics\\data\\destination.txt\"\n",
    "with open(src_path, \"r\") as src_file:\n",
    "    content = src_file.read()\n",
    "with open(dst_path, \"w\") as dst_file:\n",
    "    dst_file.write(content)\n",
    "print(\"Contents copied from 'source.txt' to 'destination.txt'.\")"
   ]
  },
  {
   "cell_type": "markdown",
   "id": "a038acf2-156e-4ec8-9854-ce4720055ba3",
   "metadata": {},
   "source": [
    "### Exercise 28"
   ]
  },
  {
   "cell_type": "code",
   "execution_count": 30,
   "id": "e9abb5fb-b288-49d1-9514-e88745eb3e9f",
   "metadata": {},
   "outputs": [
    {
     "name": "stdout",
     "output_type": "stream",
     "text": [
      "Number of lines in file: 1\n"
     ]
    }
   ],
   "source": [
    "# Exercise 28\n",
    "def count_lines(filename):\n",
    "    with open(filename, \"r\") as file:\n",
    "        return len(file.readlines())\n",
    "\n",
    "file_path_28 = r\"C:\\Users\\user\\Documents\\tekHer\\TekHer-Python-Basics\\data\\essay.txt\"\n",
    "line_count = count_lines(file_path_28)\n",
    "print(\"Number of lines in file:\", line_count)"
   ]
  },
  {
   "cell_type": "markdown",
   "id": "f00118f3-43ed-4b47-98d8-fc69691b9b23",
   "metadata": {},
   "source": [
    "### Exercise 29"
   ]
  },
  {
   "cell_type": "code",
   "execution_count": 32,
   "id": "34cbdfb7-8de5-481f-9351-3725ee966e7d",
   "metadata": {},
   "outputs": [
    {
     "name": "stdout",
     "output_type": "stream",
     "text": [
      "Words with more than 5 characters: ['sample', 'article', 'applications.', 'multiple', 'lines.']\n"
     ]
    }
   ],
   "source": [
    "# Exercise 29\n",
    "file_path_29 = r\"C:\\Users\\user\\Documents\\tekHer\\TekHer-Python-Basics\\data\\article.txt\"\n",
    "with open(file_path_29, \"r\") as file:\n",
    "    words = file.read().split()\n",
    "long_words = [word for word in words if len(word) > 5]\n",
    "print(\"Words with more than 5 characters:\", long_words)"
   ]
  },
  {
   "cell_type": "markdown",
   "id": "79cf4c18-41c3-4036-bf82-9e3888089944",
   "metadata": {},
   "source": [
    "### Exercise 30"
   ]
  },
  {
   "cell_type": "code",
   "execution_count": 34,
   "id": "90ee30f3-2f60-460d-a498-229f84159e00",
   "metadata": {},
   "outputs": [
    {
     "name": "stdout",
     "output_type": "stream",
     "text": [
      "Contents of 'notes.txt' converted to uppercase and saved to 'uppercase_notes.txt'.\n"
     ]
    }
   ],
   "source": [
    "# Exercise 30\n",
    "input_path = r\"C:\\Users\\user\\Documents\\tekHer\\TekHer-Python-Basics\\data\\notes.txt\"\n",
    "output_path = r\"C:\\Users\\user\\Documents\\tekHer\\TekHer-Python-Basics\\data\\uppercase_notes.txt\"\n",
    "with open(input_path, \"r\") as file:\n",
    "    content = file.read().upper()\n",
    "with open(output_path, \"w\") as file:\n",
    "    file.write(content)\n",
    "print(\"Contents of 'notes.txt' converted to uppercase and saved to 'uppercase_notes.txt'.\")"
   ]
  },
  {
   "cell_type": "code",
   "execution_count": 36,
   "id": "82e07aba-bafc-4c80-93f0-2d7cd608bdbc",
   "metadata": {},
   "outputs": [],
   "source": [
    "import os\n",
    "import string\n",
    "\n",
    "base_path = r\"C:\\Users\\user\\Documents\\tekHer\\TekHer-Python-Basics\\data\""
   ]
  },
  {
   "cell_type": "markdown",
   "id": "d7b3ae5d-83a0-4eb5-aad8-97debaa492e4",
   "metadata": {},
   "source": [
    "### Exercise 31"
   ]
  },
  {
   "cell_type": "code",
   "execution_count": 38,
   "id": "fb1bbf0b-dbda-4f8b-940a-fe1a02be374a",
   "metadata": {},
   "outputs": [
    {
     "name": "stdout",
     "output_type": "stream",
     "text": [
      "Empty lines removed from 'essay.txt'.\n"
     ]
    }
   ],
   "source": [
    "# Exercise 31\n",
    "file_path_31 = os.path.join(base_path, \"essay.txt\")\n",
    "with open(file_path_31, \"r\") as file:\n",
    "    lines = file.readlines()\n",
    "non_empty_lines = [line for line in lines if line.strip()]\n",
    "with open(file_path_31, \"w\") as file:\n",
    "    file.writelines(non_empty_lines)\n",
    "print(\"Empty lines removed from 'essay.txt'.\")"
   ]
  },
  {
   "cell_type": "markdown",
   "id": "956e6502-a998-4320-8265-07ab256faeea",
   "metadata": {},
   "source": [
    "### Exercise 32"
   ]
  },
  {
   "cell_type": "code",
   "execution_count": 40,
   "id": "363d69b8-db5a-436f-a0c4-62e5c960c509",
   "metadata": {},
   "outputs": [
    {
     "name": "stdout",
     "output_type": "stream",
     "text": [
      "'config.txt' opened in read and write mode.\n"
     ]
    }
   ],
   "source": [
    "# Exercise 32\n",
    "file_path_32 = os.path.join(base_path, \"config.txt\")\n",
    "file = open(file_path_32, \"r+\")\n",
    "print(\"'config.txt' opened in read and write mode.\")\n",
    "file.close()"
   ]
  },
  {
   "cell_type": "markdown",
   "id": "5094903b-b92c-4ac0-8657-b408dc7c9041",
   "metadata": {},
   "source": [
    "### Exercise 33"
   ]
  },
  {
   "cell_type": "code",
   "execution_count": 56,
   "id": "9f1bd541-b172-495a-95de-0cfcb99f2aad",
   "metadata": {},
   "outputs": [
    {
     "name": "stdout",
     "output_type": "stream",
     "text": [
      "Longest line in the file: PYTHON IS A VERSATILE LANGUAGE.\n"
     ]
    }
   ],
   "source": [
    "# Exercise 33 \n",
    "file_path_33 = r\"C:\\Users\\user\\Documents\\tekHer\\TekHer-Python-Basics\\data\\uppercase_notes.txt\" # random file path\n",
    "\n",
    "def print_longest_line(file_path):\n",
    "    with open(file_path, \"r\") as file:\n",
    "        lines = file.readlines()\n",
    "    longest = max(lines, key=len)\n",
    "    print(\"Longest line in the file:\", longest.strip())\n",
    "\n",
    "print_longest_line(file_path_33)"
   ]
  },
  {
   "cell_type": "markdown",
   "id": "31a80df7-14b5-4137-ba15-21901089379d",
   "metadata": {},
   "source": [
    "### Exercise 34"
   ]
  },
  {
   "cell_type": "code",
   "execution_count": 59,
   "id": "7dd86118-748c-445e-b196-1e4946a79185",
   "metadata": {},
   "outputs": [
    {
     "name": "stdout",
     "output_type": "stream",
     "text": [
      "Letter frequency in 'message.txt': {'h': 3, 'e': 6, 'l': 3, 'o': 1, 't': 2, 'r': 1, 'i': 3, 's': 4, 'a': 2, 'm': 1, 'g': 1, 'f': 1}\n"
     ]
    }
   ],
   "source": [
    "# Exercise 34\n",
    "file_path_34 = os.path.join(base_path, \"message.txt\")\n",
    "with open(file_path_34, \"r\") as file:\n",
    "    text = file.read().lower()\n",
    "frequency = {}\n",
    "for char in text:\n",
    "    if char.isalpha():\n",
    "        frequency[char] = frequency.get(char, 0) + 1\n",
    "print(\"Letter frequency in 'message.txt':\", frequency)"
   ]
  },
  {
   "cell_type": "markdown",
   "id": "9a64d433-c2b7-466c-8ecd-e1ef8c44b594",
   "metadata": {},
   "source": [
    "### Exercise 35"
   ]
  },
  {
   "cell_type": "code",
   "execution_count": 61,
   "id": "4ede8ee5-2286-44a0-b5b1-7d9813c9d3ae",
   "metadata": {},
   "outputs": [
    {
     "name": "stdout",
     "output_type": "stream",
     "text": [
      "Total number of characters (excluding spaces): 56\n"
     ]
    }
   ],
   "source": [
    "# Exercise 35\n",
    "file_path_35 = os.path.join(base_path, \"essay.txt\")\n",
    "with open(file_path_35, \"r\") as file:\n",
    "    content = file.read()\n",
    "char_count = len(content.replace(\" \", \"\").replace(\"\\n\", \"\"))\n",
    "print(\"Total number of characters (excluding spaces):\", char_count)"
   ]
  },
  {
   "cell_type": "markdown",
   "id": "efeeaede-0902-4b49-b68f-9fe23ddb6a5e",
   "metadata": {},
   "source": [
    "### Exercise 36"
   ]
  },
  {
   "cell_type": "code",
   "execution_count": 63,
   "id": "f3b9ab2a-d69c-4f71-a980-9a096cb71d9c",
   "metadata": {},
   "outputs": [
    {
     "name": "stdout",
     "output_type": "stream",
     "text": [
      "Is 'report.txt' empty?: False\n"
     ]
    }
   ],
   "source": [
    "# Exercise 36\n",
    "file_path_36 = os.path.join(base_path, \"report.txt\")\n",
    "is_empty = os.stat(file_path_36).st_size == 0\n",
    "print(\"Is 'report.txt' empty?:\", is_empty)"
   ]
  },
  {
   "cell_type": "markdown",
   "id": "1948d164-7af7-4201-ae18-463d77b00253",
   "metadata": {},
   "source": [
    "### Exercise 37"
   ]
  },
  {
   "cell_type": "code",
   "execution_count": 65,
   "id": "e497bebd-5c84-48a5-b026-64954139cced",
   "metadata": {},
   "outputs": [
    {
     "name": "stdout",
     "output_type": "stream",
     "text": [
      "Text without punctuation:\n",
      " This is a sample article about AI and its applications\n",
      "It spans multiple lines\n",
      "\n"
     ]
    }
   ],
   "source": [
    "# Exercise 37\n",
    "def remove_punctuation(file_path):\n",
    "    with open(file_path, \"r\") as file:\n",
    "        text = file.read()\n",
    "    cleaned = text.translate(str.maketrans(\"\", \"\", string.punctuation))\n",
    "    print(\"Text without punctuation:\\n\", cleaned)\n",
    "\n",
    "remove_punctuation(os.path.join(base_path, \"article.txt\"))"
   ]
  },
  {
   "cell_type": "markdown",
   "id": "9bcc5b29-b5a5-4527-8c9d-a715179f34d7",
   "metadata": {},
   "source": [
    "### Exercise 38"
   ]
  },
  {
   "cell_type": "code",
   "execution_count": 67,
   "id": "e1d601c9-975a-406d-b7be-d2e8b5be598a",
   "metadata": {},
   "outputs": [
    {
     "name": "stdout",
     "output_type": "stream",
     "text": [
      "List of strings written to file: C:\\Users\\user\\Documents\\tekHer\\TekHer-Python-Basics\\data\\essay.txt\n"
     ]
    }
   ],
   "source": [
    "# Exercise 38 (write to essay.txt)\n",
    "def write_lines_to_file(lines, filename):\n",
    "    with open(filename, \"w\") as file:\n",
    "        for line in lines:\n",
    "            file.write(line + \"\\n\")\n",
    "    print(\"List of strings written to file:\", filename)\n",
    "\n",
    "lines_to_write = [\"Python is great\", \"Data Science\", \"AI and ML\"]\n",
    "file_path_38 = r\"C:\\Users\\user\\Documents\\tekHer\\TekHer-Python-Basics\\data\\essay.txt\"\n",
    "write_lines_to_file(lines_to_write, file_path_38)"
   ]
  },
  {
   "cell_type": "markdown",
   "id": "5d808f64-020b-4438-82f9-c375e7254700",
   "metadata": {},
   "source": [
    "### Exercise 39"
   ]
  },
  {
   "cell_type": "code",
   "execution_count": 70,
   "id": "cf49e3bf-2c4c-49b9-8e0e-8aa119e7520c",
   "metadata": {},
   "outputs": [
    {
     "name": "stdout",
     "output_type": "stream",
     "text": [
      "Number of lines starting with 'A': 0\n"
     ]
    }
   ],
   "source": [
    "# Exercise 39\n",
    "file_path_39 = os.path.join(base_path, \"article.txt\")\n",
    "letter = \"A\"\n",
    "with open(file_path_39, \"r\") as file:\n",
    "    count = sum(1 for line in file if line.startswith(letter))\n",
    "print(f\"Number of lines starting with '{letter}':\", count)"
   ]
  },
  {
   "cell_type": "markdown",
   "id": "8888383b-a03e-4968-8050-b6f0f5e23ac9",
   "metadata": {},
   "source": [
    "### Exercise 40"
   ]
  },
  {
   "cell_type": "code",
   "execution_count": 72,
   "id": "80602018-d646-41f5-8510-2a19f924c5a0",
   "metadata": {},
   "outputs": [
    {
     "name": "stdout",
     "output_type": "stream",
     "text": [
      "Reversed string written to 'output.txt'.\n"
     ]
    }
   ],
   "source": [
    "# Exercise 40\n",
    "def write_reversed_string(text):\n",
    "    reversed_text = text[::-1]\n",
    "    output_path = os.path.join(base_path, \"output.txt\")\n",
    "    with open(output_path, \"w\") as file:\n",
    "        file.write(reversed_text)\n",
    "    print(\"Reversed string written to 'output.txt'.\")\n",
    "\n",
    "write_reversed_string(\"Python is fun!\")"
   ]
  },
  {
   "cell_type": "code",
   "execution_count": 74,
   "id": "77a463db-7aa4-4f2d-9726-8260b7762553",
   "metadata": {},
   "outputs": [],
   "source": [
    "import os\n",
    "from collections import Counter\n",
    "import string\n",
    "\n",
    "base_path = r\"C:\\Users\\user\\Documents\\tekHer\\TekHer-Python-Basics\\data\""
   ]
  },
  {
   "cell_type": "markdown",
   "id": "99ab4f07-920c-4a64-8c55-b8b234ace7cf",
   "metadata": {},
   "source": [
    "### Exercise 41"
   ]
  },
  {
   "cell_type": "code",
   "execution_count": 76,
   "id": "da5a5878-9d54-4ffb-a4aa-9b6460c37aeb",
   "metadata": {},
   "outputs": [
    {
     "name": "stdout",
     "output_type": "stream",
     "text": [
      "Lines containing 'Python': ['Python is great']\n"
     ]
    }
   ],
   "source": [
    "# Exercise 41\n",
    "file_path_41 = os.path.join(base_path, \"essay.txt\")\n",
    "with open(file_path_41, \"r\") as file:\n",
    "    lines_with_python = [line.strip() for line in file if \"Python\" in line]\n",
    "print(\"Lines containing 'Python':\", lines_with_python)"
   ]
  },
  {
   "cell_type": "markdown",
   "id": "55bcab4d-9648-4ac4-8b1f-cba1a57910ac",
   "metadata": {},
   "source": [
    "### Exercise 42"
   ]
  },
  {
   "cell_type": "code",
   "execution_count": 78,
   "id": "3ebe32b1-4d78-40c4-a9b2-c42069328812",
   "metadata": {},
   "outputs": [
    {
     "name": "stdout",
     "output_type": "stream",
     "text": [
      "Numeric digits removed from 'essay.txt'.\n"
     ]
    }
   ],
   "source": [
    "# Exercise 42\n",
    "file_path_42 = os.path.join(base_path, \"essay.txt\")\n",
    "with open(file_path_42, \"r\") as file:\n",
    "    content = file.read()\n",
    "no_digits = ''.join(char for char in content if not char.isdigit())\n",
    "with open(file_path_42, \"w\") as file:\n",
    "    file.write(no_digits)\n",
    "print(\"Numeric digits removed from 'essay.txt'.\")"
   ]
  },
  {
   "cell_type": "markdown",
   "id": "1cbb1715-ca64-4035-a196-569654e39e75",
   "metadata": {},
   "source": [
    "### Exercise 43"
   ]
  },
  {
   "cell_type": "code",
   "execution_count": 80,
   "id": "ccbe0b65-7742-4d8e-8815-bbeda9749bc8",
   "metadata": {},
   "outputs": [
    {
     "name": "stdout",
     "output_type": "stream",
     "text": [
      "Most frequent word in 'book.txt': a\n"
     ]
    }
   ],
   "source": [
    "# Exercise 43\n",
    "file_path_43 = os.path.join(base_path, \"book.txt\")\n",
    "with open(file_path_43, \"r\") as file:\n",
    "    words = file.read().lower().translate(str.maketrans(\"\", \"\", string.punctuation)).split()\n",
    "most_common_word = Counter(words).most_common(1)[0]\n",
    "print(\"Most frequent word in 'book.txt':\", most_common_word[0])"
   ]
  },
  {
   "cell_type": "markdown",
   "id": "610a0723-e76c-40d3-9807-80adaec18508",
   "metadata": {},
   "source": [
    "### Exercise 44"
   ]
  },
  {
   "cell_type": "code",
   "execution_count": 82,
   "id": "58283700-dcea-4ac3-82b5-c19cb90da573",
   "metadata": {},
   "outputs": [
    {
     "name": "stdout",
     "output_type": "stream",
     "text": [
      "Lines with exactly 5 words: []\n"
     ]
    }
   ],
   "source": [
    "# Exercise 44\n",
    "file_path_44 = os.path.join(base_path, \"essay.txt\")\n",
    "with open(file_path_44, \"r\") as file:\n",
    "    exact_five = [line.strip() for line in file if len(line.split()) == 5]\n",
    "print(\"Lines with exactly 5 words:\", exact_five)"
   ]
  },
  {
   "cell_type": "markdown",
   "id": "14b79bfd-fee3-4070-a576-c0e60ea9a08e",
   "metadata": {},
   "source": [
    "### Exercise 45"
   ]
  },
  {
   "cell_type": "code",
   "execution_count": 84,
   "id": "4cbeeca5-33dd-4e8d-af77-2e15e65044a7",
   "metadata": {},
   "outputs": [
    {
     "name": "stdout",
     "output_type": "stream",
     "text": [
      "First line: Python is great\n",
      "Last line: AI and ML\n"
     ]
    }
   ],
   "source": [
    "# Exercise 45\n",
    "file_path_45 = os.path.join(base_path, \"essay.txt\")\n",
    "with open(file_path_45, \"r\") as file:\n",
    "    lines = file.readlines()\n",
    "print(\"First line:\", lines[0].strip())\n",
    "print(\"Last line:\", lines[-1].strip())"
   ]
  },
  {
   "cell_type": "markdown",
   "id": "1c8b84e3-bf8c-4b6c-9e81-7073ef87e0f5",
   "metadata": {},
   "source": [
    "### Exercise 46"
   ]
  },
  {
   "cell_type": "code",
   "execution_count": 86,
   "id": "ed66f873-eebb-424a-b3e8-d5f0b1d7d77b",
   "metadata": {},
   "outputs": [
    {
     "name": "stdout",
     "output_type": "stream",
     "text": [
      "Is 'students.txt' writable?: True\n"
     ]
    }
   ],
   "source": [
    "# Exercise 46\n",
    "file_path_46 = os.path.join(base_path, \"students.txt\")\n",
    "is_writable = os.access(file_path_46, os.W_OK)\n",
    "print(\"Is 'students.txt' writable?:\", is_writable)"
   ]
  },
  {
   "cell_type": "markdown",
   "id": "f9f9b68c-f197-43c7-97a4-c891d5e2ed0b",
   "metadata": {},
   "source": [
    "### Exercise 47"
   ]
  },
  {
   "cell_type": "code",
   "execution_count": 90,
   "id": "d7c1edda-4221-4783-a343-5f9b425abf6a",
   "metadata": {},
   "outputs": [
    {
     "name": "stdout",
     "output_type": "stream",
     "text": [
      "Number of unique words in 'essay.txt': 8\n"
     ]
    }
   ],
   "source": [
    "#  Exercise 47 (using essay.txt)\n",
    "import string\n",
    "\n",
    "def count_unique_words(file_path):\n",
    "    with open(file_path, \"r\") as file:\n",
    "        words = file.read().lower().translate(str.maketrans(\"\", \"\", string.punctuation)).split()\n",
    "    unique = set(words)\n",
    "    return len(unique)\n",
    "\n",
    "file_path_47 = r\"C:\\Users\\user\\Documents\\tekHer\\TekHer-Python-Basics\\data\\essay.txt\"\n",
    "print(\"Number of unique words in 'essay.txt':\", count_unique_words(file_path_47))"
   ]
  },
  {
   "cell_type": "markdown",
   "id": "00ca43f1-1d2a-44e3-9e20-f8d74c391555",
   "metadata": {},
   "source": [
    "### Exercise 48"
   ]
  },
  {
   "cell_type": "code",
   "execution_count": 98,
   "id": "6eca17f4-2677-4138-bc8d-d793e2e80632",
   "metadata": {},
   "outputs": [
    {
     "name": "stdout",
     "output_type": "stream",
     "text": [
      "Lines in reverse order:\n",
      "AI and ML\n",
      "Data Science\n",
      "Python is great\n"
     ]
    }
   ],
   "source": [
    "# Exercise 48\n",
    "file_path_48 = os.path.join(base_path, \"essay.txt\")\n",
    "with open(file_path_48, \"r\") as file:\n",
    "    lines = file.readlines()\n",
    "print(\"Lines in reverse order:\")\n",
    "for line in reversed(lines):\n",
    "    print(line.strip())"
   ]
  },
  {
   "cell_type": "markdown",
   "id": "d9268b1d-1f7a-4aac-ab01-d91c6ad0ecb7",
   "metadata": {},
   "source": [
    "### Exercise 49"
   ]
  },
  {
   "cell_type": "code",
   "execution_count": 100,
   "id": "09143eb8-2273-4605-a7b2-3170ff0a0b30",
   "metadata": {},
   "outputs": [
    {
     "name": "stdout",
     "output_type": "stream",
     "text": [
      "Most common letter in 'article.txt': i\n"
     ]
    }
   ],
   "source": [
    "# Exercise 49\n",
    "def most_common_letter(file_path):\n",
    "    with open(file_path, \"r\") as file:\n",
    "        text = file.read().lower()\n",
    "    letters = [c for c in text if c.isalpha()]\n",
    "    return Counter(letters).most_common(1)[0][0]\n",
    "\n",
    "file_path_49 = os.path.join(base_path, \"article.txt\")\n",
    "print(\"Most common letter in 'article.txt':\", most_common_letter(file_path_49))"
   ]
  },
  {
   "cell_type": "markdown",
   "id": "2cfd0b45-a260-4e9a-94d7-f5b146bcd94a",
   "metadata": {},
   "source": [
    "### Exercise 50"
   ]
  },
  {
   "cell_type": "code",
   "execution_count": 102,
   "id": "700bdde5-3db9-49c9-8ea1-7094ba28ac6b",
   "metadata": {},
   "outputs": [
    {
     "name": "stdout",
     "output_type": "stream",
     "text": [
      "Replaced 'Python' with 'Java' in 'essay.txt'.\n"
     ]
    }
   ],
   "source": [
    "# Exercise 50\n",
    "file_path_50 = os.path.join(base_path, \"essay.txt\")\n",
    "with open(file_path_50, \"r\") as file:\n",
    "    content = file.read()\n",
    "updated_content = content.replace(\"Python\", \"Java\")\n",
    "with open(file_path_50, \"w\") as file:\n",
    "    file.write(updated_content)\n",
    "print(\"Replaced 'Python' with 'Java' in 'essay.txt'.\")"
   ]
  }
 ],
 "metadata": {
  "kernelspec": {
   "display_name": "Python [conda env:base] *",
   "language": "python",
   "name": "conda-base-py"
  },
  "language_info": {
   "codemirror_mode": {
    "name": "ipython",
    "version": 3
   },
   "file_extension": ".py",
   "mimetype": "text/x-python",
   "name": "python",
   "nbconvert_exporter": "python",
   "pygments_lexer": "ipython3",
   "version": "3.12.7"
  }
 },
 "nbformat": 4,
 "nbformat_minor": 5
}
