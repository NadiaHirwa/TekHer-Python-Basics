{
 "cells": [
  {
   "cell_type": "markdown",
   "id": "bd6f6199",
   "metadata": {},
   "source": [
    "# Practical_6: Numpy"
   ]
  },
  {
   "cell_type": "markdown",
   "id": "de325ed6",
   "metadata": {},
   "source": [
    "---\n",
    "\n",
    "### Exercise 1:\n",
    "Create a NumPy array of integers from 1 to 10.\n"
   ]
  },
  {
   "cell_type": "code",
   "execution_count": 1,
   "id": "92ed483b-552b-4807-8069-6dce5afe97c5",
   "metadata": {},
   "outputs": [],
   "source": [
    "import numpy as np"
   ]
  },
  {
   "cell_type": "code",
   "execution_count": 3,
   "id": "9b904697",
   "metadata": {},
   "outputs": [
    {
     "name": "stdout",
     "output_type": "stream",
     "text": [
      "[ 1  2  3  4  5  6  7  8  9 10]\n"
     ]
    }
   ],
   "source": [
    "# Exercise 1\n",
    "arr1 = np.arange(1, 11)\n",
    "print(arr1)"
   ]
  },
  {
   "cell_type": "markdown",
   "id": "745710c7",
   "metadata": {},
   "source": [
    "\n",
    "---\n",
    "\n",
    "### Exercise 2:\n",
    "Create a 3x3 NumPy array filled with zeros.\n"
   ]
  },
  {
   "cell_type": "code",
   "execution_count": 5,
   "id": "875235f1",
   "metadata": {},
   "outputs": [
    {
     "name": "stdout",
     "output_type": "stream",
     "text": [
      "[[0. 0. 0.]\n",
      " [0. 0. 0.]\n",
      " [0. 0. 0.]]\n"
     ]
    }
   ],
   "source": [
    "# Exercise 2\n",
    "arr2 = np.zeros((3, 3))\n",
    "print(arr2)"
   ]
  },
  {
   "cell_type": "markdown",
   "id": "a542ea80",
   "metadata": {},
   "source": [
    "\n",
    "---\n",
    "\n",
    "### Exercise 3:\n",
    "Create a NumPy array of 10 evenly spaced numbers between 0 and 5.\n"
   ]
  },
  {
   "cell_type": "code",
   "execution_count": 7,
   "id": "97c6ba4a",
   "metadata": {},
   "outputs": [
    {
     "name": "stdout",
     "output_type": "stream",
     "text": [
      "[0.         0.55555556 1.11111111 1.66666667 2.22222222 2.77777778\n",
      " 3.33333333 3.88888889 4.44444444 5.        ]\n"
     ]
    }
   ],
   "source": [
    "# Exercise 3\n",
    "arr3 = np.linspace(0, 5, 10)\n",
    "print(arr3)"
   ]
  },
  {
   "cell_type": "markdown",
   "id": "e92d80cc",
   "metadata": {},
   "source": [
    "\n",
    "---\n",
    "\n",
    "### Exercise 4:\n",
    "Create a 5x5 identity matrix using NumPy.\n"
   ]
  },
  {
   "cell_type": "code",
   "execution_count": 9,
   "id": "c5213bd2",
   "metadata": {},
   "outputs": [
    {
     "name": "stdout",
     "output_type": "stream",
     "text": [
      "[[1. 0. 0. 0. 0.]\n",
      " [0. 1. 0. 0. 0.]\n",
      " [0. 0. 1. 0. 0.]\n",
      " [0. 0. 0. 1. 0.]\n",
      " [0. 0. 0. 0. 1.]]\n"
     ]
    }
   ],
   "source": [
    "# Exercise 4\n",
    "arr4 = np.eye(5)\n",
    "print(arr4)"
   ]
  },
  {
   "cell_type": "markdown",
   "id": "a16f88e7",
   "metadata": {},
   "source": [
    "\n",
    "---\n",
    "\n",
    "### Exercise 5:\n",
    "Create a 4x4 matrix with random values between 0 and 1.\n"
   ]
  },
  {
   "cell_type": "code",
   "execution_count": 13,
   "id": "2b16922b",
   "metadata": {},
   "outputs": [
    {
     "name": "stdout",
     "output_type": "stream",
     "text": [
      "[[0.10717458 0.11614486 0.46591129 0.659419  ]\n",
      " [0.37727047 0.1651458  0.2618158  0.10041367]\n",
      " [0.47531938 0.52312524 0.4001124  0.65318444]\n",
      " [0.28813644 0.97689869 0.65520913 0.08186399]]\n"
     ]
    }
   ],
   "source": [
    "# Exercise 5\n",
    "arr5 = np.random.rand(4, 4)\n",
    "print(arr5)"
   ]
  },
  {
   "cell_type": "markdown",
   "id": "cc9af8fd",
   "metadata": {},
   "source": [
    "\n",
    "---\n",
    "\n",
    "### Exercise 6:\n",
    "Find the shape of a NumPy array.\n"
   ]
  },
  {
   "cell_type": "code",
   "execution_count": 15,
   "id": "359864d2",
   "metadata": {},
   "outputs": [
    {
     "name": "stdout",
     "output_type": "stream",
     "text": [
      "(4, 4)\n"
     ]
    }
   ],
   "source": [
    "# Exercise 6\n",
    "print( arr5.shape)"
   ]
  },
  {
   "cell_type": "markdown",
   "id": "ada0aff6",
   "metadata": {},
   "source": [
    "\n",
    "---\n",
    "\n",
    "### Exercise 7:\n",
    "Reshape a 1D NumPy array of 16 elements into a 4x4 matrix.\n"
   ]
  },
  {
   "cell_type": "code",
   "execution_count": 17,
   "id": "43fcb4b3",
   "metadata": {},
   "outputs": [
    {
     "name": "stdout",
     "output_type": "stream",
     "text": [
      "[[ 0  1  2  3]\n",
      " [ 4  5  6  7]\n",
      " [ 8  9 10 11]\n",
      " [12 13 14 15]]\n"
     ]
    }
   ],
   "source": [
    "# Exercise 7\n",
    "arr7 = np.arange(16).reshape(4, 4)\n",
    "print(arr7)"
   ]
  },
  {
   "cell_type": "markdown",
   "id": "d384142a",
   "metadata": {},
   "source": [
    "\n",
    "---\n",
    "\n",
    "### Exercise 8:\n",
    "Find the data type of the elements in a NumPy array.\n"
   ]
  },
  {
   "cell_type": "code",
   "execution_count": 19,
   "id": "bf4dca5a",
   "metadata": {},
   "outputs": [
    {
     "name": "stdout",
     "output_type": "stream",
     "text": [
      "int32\n"
     ]
    }
   ],
   "source": [
    "# Exercise 8\n",
    "print(arr7.dtype)"
   ]
  },
  {
   "cell_type": "markdown",
   "id": "c295ca54",
   "metadata": {},
   "source": [
    "\n",
    "---\n",
    "\n",
    "### Exercise 9:\n",
    "Create a NumPy array of integers from 1 to 100 and find all even numbers in the array.\n"
   ]
  },
  {
   "cell_type": "code",
   "execution_count": 21,
   "id": "28a61c5e",
   "metadata": {},
   "outputs": [
    {
     "name": "stdout",
     "output_type": "stream",
     "text": [
      "[  2   4   6   8  10  12  14  16  18  20  22  24  26  28  30  32  34  36\n",
      "  38  40  42  44  46  48  50  52  54  56  58  60  62  64  66  68  70  72\n",
      "  74  76  78  80  82  84  86  88  90  92  94  96  98 100]\n"
     ]
    }
   ],
   "source": [
    "# Exercise 9\n",
    "arr9 = np.arange(1, 101)\n",
    "even_numbers = arr9[arr9 % 2 == 0]\n",
    "print(even_numbers)"
   ]
  },
  {
   "cell_type": "markdown",
   "id": "72103956",
   "metadata": {},
   "source": [
    "\n",
    "---\n",
    "\n",
    "### Exercise 10:\n",
    "Generate a 6x6 matrix of random integers between 10 and 50.\n"
   ]
  },
  {
   "cell_type": "code",
   "execution_count": 25,
   "id": "ce04300e",
   "metadata": {},
   "outputs": [
    {
     "name": "stdout",
     "output_type": "stream",
     "text": [
      "[[25 25 22 38 47 22]\n",
      " [27 35 50 24 42 38]\n",
      " [50 13 12 37 42 41]\n",
      " [30 44 44 17 38 35]\n",
      " [40 42 31 47 19 26]\n",
      " [19 24 14 31 26 35]]\n"
     ]
    }
   ],
   "source": [
    "# Exercise 10\n",
    "arr10 = np.random.randint(10, 51, size=(6, 6))\n",
    "print(arr10)"
   ]
  },
  {
   "cell_type": "markdown",
   "id": "3dd1a085",
   "metadata": {},
   "source": [
    "\n",
    "---\n",
    "\n",
    "### Exercise 11:\n",
    "Slice a 2D NumPy array to extract a submatrix.\n"
   ]
  },
  {
   "cell_type": "code",
   "execution_count": 27,
   "id": "b8fc90ba",
   "metadata": {},
   "outputs": [
    {
     "name": "stdout",
     "output_type": "stream",
     "text": [
      "[[ 6  7]\n",
      " [10 11]]\n"
     ]
    }
   ],
   "source": [
    "# Exercise 11\n",
    "matrix = np.arange(1, 17).reshape(4, 4)\n",
    "submatrix = matrix[1:3, 1:3]\n",
    "print(submatrix)"
   ]
  },
  {
   "cell_type": "markdown",
   "id": "73a4344c",
   "metadata": {},
   "source": [
    "\n",
    "---\n",
    "\n",
    "### Exercise 12:\n",
    "Calculate the sum of all elements in a NumPy array.\n"
   ]
  },
  {
   "cell_type": "code",
   "execution_count": 29,
   "id": "3c417ff3",
   "metadata": {},
   "outputs": [
    {
     "name": "stdout",
     "output_type": "stream",
     "text": [
      "10\n"
     ]
    }
   ],
   "source": [
    "# Exercise 12\n",
    "arr12 = np.array([1, 2, 3, 4])\n",
    "print(arr12.sum())"
   ]
  },
  {
   "cell_type": "markdown",
   "id": "c2346362",
   "metadata": {},
   "source": [
    "\n",
    "---\n",
    "\n",
    "### Exercise 13:\n",
    "Calculate the mean, median, and standard deviation of a NumPy array.\n"
   ]
  },
  {
   "cell_type": "code",
   "execution_count": 33,
   "id": "95e57182",
   "metadata": {},
   "outputs": [
    {
     "name": "stdout",
     "output_type": "stream",
     "text": [
      "Mean = 3.0\n",
      "Median = 3.0\n",
      "Standard Deviation = 1.4142135623730951\n"
     ]
    }
   ],
   "source": [
    "# Exercise 13\n",
    "arr13 = np.array([1, 2, 3, 4, 5])\n",
    "print(\"Mean =\", arr13.mean())\n",
    "print(\"Median =\", np.median(arr13))\n",
    "print(\"Standard Deviation =\", arr13.std())"
   ]
  },
  {
   "cell_type": "markdown",
   "id": "67a4fdbd",
   "metadata": {},
   "source": [
    "\n",
    "---\n",
    "\n",
    "### Exercise 14:\n",
    "Find the maximum and minimum values in a NumPy array.\n"
   ]
  },
  {
   "cell_type": "code",
   "execution_count": 35,
   "id": "7959c765",
   "metadata": {},
   "outputs": [
    {
     "name": "stdout",
     "output_type": "stream",
     "text": [
      "Max = 20\n",
      "Min = 5\n"
     ]
    }
   ],
   "source": [
    "# Exercise 14\n",
    "arr14 = np.array([10, 20, 5, 8])\n",
    "print(\"Max =\", arr14.max())\n",
    "print(\"Min =\", arr14.min())"
   ]
  },
  {
   "cell_type": "markdown",
   "id": "8a705cd1",
   "metadata": {},
   "source": [
    "\n",
    "---\n",
    "\n",
    "### Exercise 15:\n",
    "Create a NumPy array of 20 random integers and find the index of the maximum value.\n"
   ]
  },
  {
   "cell_type": "code",
   "execution_count": 37,
   "id": "c6748d73",
   "metadata": {},
   "outputs": [
    {
     "name": "stdout",
     "output_type": "stream",
     "text": [
      "Array = [70 89 54 55 11 29 27 66 20 19 25 37 81 77 33 89 21 66 99 48]\n",
      "Index of max value: 18\n"
     ]
    }
   ],
   "source": [
    "# Exercise 15\n",
    "arr15 = np.random.randint(1, 100, 20)\n",
    "print(\"Array =\", arr15)\n",
    "print(\"Index of max value:\", np.argmax(arr15))"
   ]
  },
  {
   "cell_type": "markdown",
   "id": "467ca6ac",
   "metadata": {},
   "source": [
    "\n",
    "---\n",
    "\n",
    "### Exercise 16:\n",
    "Create a NumPy array and reverse its elements.\n"
   ]
  },
  {
   "cell_type": "code",
   "execution_count": 39,
   "id": "0a178eb6",
   "metadata": {},
   "outputs": [
    {
     "name": "stdout",
     "output_type": "stream",
     "text": [
      "[5 4 3 2 1]\n"
     ]
    }
   ],
   "source": [
    "# Exercise 16\n",
    "arr16 = np.array([1, 2, 3, 4, 5])\n",
    "reversed_arr = arr16[::-1]\n",
    "print(reversed_arr)"
   ]
  },
  {
   "cell_type": "markdown",
   "id": "b7d8ec92",
   "metadata": {},
   "source": [
    "\n",
    "---\n",
    "\n",
    "### Exercise 17:\n",
    "Create a 3x3 matrix and multiply it element-wise by another 3x3 matrix.\n"
   ]
  },
  {
   "cell_type": "code",
   "execution_count": 41,
   "id": "847ddc05",
   "metadata": {},
   "outputs": [
    {
     "name": "stdout",
     "output_type": "stream",
     "text": [
      "[[ 9 16 21]\n",
      " [24 25 24]\n",
      " [21 16  9]]\n"
     ]
    }
   ],
   "source": [
    "# Exercise 17\n",
    "a = np.array([[1, 2, 3], [4, 5, 6], [7, 8, 9]])\n",
    "b = np.array([[9, 8, 7], [6, 5, 4], [3, 2, 1]])\n",
    "result = a * b\n",
    "print(result)"
   ]
  },
  {
   "cell_type": "markdown",
   "id": "58512446",
   "metadata": {},
   "source": [
    "\n",
    "---\n",
    "\n",
    "### Exercise 18:\n",
    "Create a diagonal matrix from a given 1D array.\n"
   ]
  },
  {
   "cell_type": "code",
   "execution_count": 47,
   "id": "bd7e9321",
   "metadata": {},
   "outputs": [
    {
     "name": "stdout",
     "output_type": "stream",
     "text": [
      "[[1 0 0 0]\n",
      " [0 2 0 0]\n",
      " [0 0 3 0]\n",
      " [0 0 0 4]]\n"
     ]
    }
   ],
   "source": [
    "# Exercise 18\n",
    "arr18 = np.array([1, 2, 3, 4])\n",
    "diag_matrix = np.diag(arr18)\n",
    "print(diag_matrix)"
   ]
  },
  {
   "cell_type": "markdown",
   "id": "10be19e0",
   "metadata": {},
   "source": [
    "\n",
    "---\n",
    "\n",
    "### Exercise 19:\n",
    "Perform matrix multiplication on two 2D NumPy arrays.\n"
   ]
  },
  {
   "cell_type": "code",
   "execution_count": 49,
   "id": "c287973c",
   "metadata": {},
   "outputs": [
    {
     "name": "stdout",
     "output_type": "stream",
     "text": [
      "[[19 22]\n",
      " [43 50]]\n"
     ]
    }
   ],
   "source": [
    "# Exercise 19\n",
    "x = np.array([[1, 2], [3, 4]])\n",
    "y = np.array([[5, 6], [7, 8]])\n",
    "product = np.dot(x, y)\n",
    "print(product)"
   ]
  },
  {
   "cell_type": "markdown",
   "id": "932aa100",
   "metadata": {},
   "source": [
    "\n",
    "---\n",
    "\n",
    "### Exercise 20:\n",
    "Flatten a 2D NumPy array into a 1D array.\n"
   ]
  },
  {
   "cell_type": "code",
   "execution_count": 55,
   "id": "0b2a7505",
   "metadata": {},
   "outputs": [
    {
     "name": "stdout",
     "output_type": "stream",
     "text": [
      "[1 2 3 4]\n"
     ]
    }
   ],
   "source": [
    "# Exercise 20\n",
    "arr20 = np.array([[1, 2], [3, 4]])\n",
    "flat = arr20.flatten()\n",
    "print(flat)"
   ]
  },
  {
   "cell_type": "markdown",
   "id": "43e4204e",
   "metadata": {},
   "source": [
    "\n",
    "---\n",
    "\n",
    "### Exercise 21:\n",
    "Stack two NumPy arrays vertically.\n"
   ]
  },
  {
   "cell_type": "code",
   "execution_count": 57,
   "id": "2fab6ed6",
   "metadata": {},
   "outputs": [
    {
     "name": "stdout",
     "output_type": "stream",
     "text": [
      "[[1 2 3]\n",
      " [4 5 6]]\n"
     ]
    }
   ],
   "source": [
    "# Exercise 21\n",
    "a21 = np.array([1, 2, 3])\n",
    "b21 = np.array([4, 5, 6])\n",
    "vertical_stack = np.vstack((a21, b21))\n",
    "print(vertical_stack)"
   ]
  },
  {
   "cell_type": "markdown",
   "id": "54a62aed",
   "metadata": {},
   "source": [
    "\n",
    "---\n",
    "\n",
    "### Exercise 22:\n",
    "Stack two NumPy arrays horizontally.\n"
   ]
  },
  {
   "cell_type": "code",
   "execution_count": 59,
   "id": "38c62fcb",
   "metadata": {},
   "outputs": [
    {
     "name": "stdout",
     "output_type": "stream",
     "text": [
      "[1 2 3 4 5 6]\n"
     ]
    }
   ],
   "source": [
    "# Exercise 22\n",
    "a22 = np.array([1, 2, 3])\n",
    "b22 = np.array([4, 5, 6])\n",
    "horizontal_stack = np.hstack((a22, b22))\n",
    "print(horizontal_stack)"
   ]
  },
  {
   "cell_type": "markdown",
   "id": "348ee442",
   "metadata": {},
   "source": [
    "\n",
    "---\n",
    "\n",
    "### Exercise 23:\n",
    "Split a NumPy array into multiple sub-arrays.\n"
   ]
  },
  {
   "cell_type": "code",
   "execution_count": 67,
   "id": "bb591997",
   "metadata": {},
   "outputs": [
    {
     "name": "stdout",
     "output_type": "stream",
     "text": [
      "[array([1, 2]), array([3, 4]), array([5, 6])]\n"
     ]
    }
   ],
   "source": [
    "# Exercise 23\n",
    "a23 = np.array([1, 2, 3, 4, 5, 6])\n",
    "split_arr = np.split(a23, 3)\n",
    "print(split_arr)"
   ]
  },
  {
   "cell_type": "markdown",
   "id": "b1f38f5f",
   "metadata": {},
   "source": [
    "\n",
    "---\n",
    "\n",
    "### Exercise 24:\n",
    "Generate a random NumPy array and round each element to two decimal places.\n"
   ]
  },
  {
   "cell_type": "code",
   "execution_count": 71,
   "id": "9627a34c",
   "metadata": {},
   "outputs": [
    {
     "name": "stdout",
     "output_type": "stream",
     "text": [
      "[[0.76 0.87 0.42]\n",
      " [0.1  0.53 0.19]\n",
      " [0.99 0.19 0.97]]\n"
     ]
    }
   ],
   "source": [
    "# Exercise 24\n",
    "a24 = np.random.rand(3, 3)\n",
    "rounded = np.round(a24, 2)\n",
    "print(rounded)"
   ]
  },
  {
   "cell_type": "markdown",
   "id": "33eff49a",
   "metadata": {},
   "source": [
    "\n",
    "---\n",
    "\n",
    "### Exercise 25:\n",
    "Find the unique elements of a NumPy array.\n"
   ]
  },
  {
   "cell_type": "code",
   "execution_count": 73,
   "id": "820d6014",
   "metadata": {},
   "outputs": [
    {
     "name": "stdout",
     "output_type": "stream",
     "text": [
      "[1 2 3 4 5]\n"
     ]
    }
   ],
   "source": [
    "# Exercise 25\n",
    "a25 = np.array([1, 2, 2, 3, 4, 4, 5])\n",
    "unique_elements = np.unique(a25)\n",
    "print(unique_elements)"
   ]
  },
  {
   "cell_type": "markdown",
   "id": "a82dfd26",
   "metadata": {},
   "source": [
    "\n",
    "---\n",
    "\n",
    "### Exercise 26:\n",
    "Replace all elements in a NumPy array that are less than a specific value with that value.\n"
   ]
  },
  {
   "cell_type": "code",
   "execution_count": 75,
   "id": "9317d8ff",
   "metadata": {},
   "outputs": [
    {
     "name": "stdout",
     "output_type": "stream",
     "text": [
      "[ 4  5  4 10  4]\n"
     ]
    }
   ],
   "source": [
    "# Exercise 26\n",
    "a26 = np.array([1, 5, 3, 10, 2])\n",
    "a26[a26 < 4] = 4\n",
    "print(a26)"
   ]
  },
  {
   "cell_type": "markdown",
   "id": "0b211e1c",
   "metadata": {},
   "source": [
    "\n",
    "---\n",
    "\n",
    "### Exercise 27:\n",
    "Find the cumulative sum of the elements in a NumPy array.\n"
   ]
  },
  {
   "cell_type": "code",
   "execution_count": 77,
   "id": "d03b7264",
   "metadata": {},
   "outputs": [
    {
     "name": "stdout",
     "output_type": "stream",
     "text": [
      "[ 1  3  6 10]\n"
     ]
    }
   ],
   "source": [
    "# Exercise 27\n",
    "a27 = np.array([1, 2, 3, 4])\n",
    "cumsum = np.cumsum(a27)\n",
    "print(cumsum)"
   ]
  },
  {
   "cell_type": "markdown",
   "id": "837642b7",
   "metadata": {},
   "source": [
    "\n",
    "---\n",
    "\n",
    "### Exercise 28:\n",
    "Create a NumPy array and find the number of non-zero elements in it.\n"
   ]
  },
  {
   "cell_type": "code",
   "execution_count": 79,
   "id": "fa2565c6",
   "metadata": {},
   "outputs": [
    {
     "name": "stdout",
     "output_type": "stream",
     "text": [
      "3\n"
     ]
    }
   ],
   "source": [
    "# Exercise 28\n",
    "a28 = np.array([0, 1, 2, 0, 3, 0])\n",
    "non_zero_count = np.count_nonzero(a28)\n",
    "print(non_zero_count)"
   ]
  },
  {
   "cell_type": "markdown",
   "id": "7d1f3704",
   "metadata": {},
   "source": [
    "\n",
    "---\n",
    "\n",
    "### Exercise 29:\n",
    "Create a NumPy array of random integers and sort it in ascending order.\n"
   ]
  },
  {
   "cell_type": "code",
   "execution_count": 87,
   "id": "dfa23a6e",
   "metadata": {},
   "outputs": [
    {
     "name": "stdout",
     "output_type": "stream",
     "text": [
      "Original: [85 40 24 81 38 10 46  4 62 43]\n",
      "Sorted: [ 4 10 24 38 40 43 46 62 81 85]\n"
     ]
    }
   ],
   "source": [
    "# Exercise 29\n",
    "ar29 = np.random.randint(1, 100, 10)\n",
    "sorted_arr = np.sort(ar29)\n",
    "print(\"Original:\", ar29)\n",
    "print(\"Sorted:\", sorted_arr)"
   ]
  },
  {
   "cell_type": "markdown",
   "id": "295b7ea8",
   "metadata": {},
   "source": [
    "\n",
    "---\n",
    "\n",
    "### Exercise 30:\n",
    "Find the row-wise and column-wise sum of a 3x3 matrix.\n"
   ]
  },
  {
   "cell_type": "code",
   "execution_count": 91,
   "id": "963df701",
   "metadata": {},
   "outputs": [
    {
     "name": "stdout",
     "output_type": "stream",
     "text": [
      "Row-wise sum: [ 6 15 24]\n",
      "Column-wise sum: [12 15 18]\n"
     ]
    }
   ],
   "source": [
    "# Exercise 30\n",
    "a30 = np.array([[1, 2, 3], [4, 5, 6], [7, 8, 9]])\n",
    "row_sum = a30.sum(axis=1)\n",
    "col_sum = a30.sum(axis=0)\n",
    "print(\"Row-wise sum:\", row_sum)\n",
    "print(\"Column-wise sum:\", col_sum)"
   ]
  },
  {
   "cell_type": "markdown",
   "id": "158756fa",
   "metadata": {},
   "source": [
    "\n",
    "---\n",
    "\n",
    "### Exercise 31:\n",
    "Generate a 2D NumPy array with random values and normalize it (scale the values between 0 and 1).\n"
   ]
  },
  {
   "cell_type": "code",
   "execution_count": 93,
   "id": "32ba8b29",
   "metadata": {},
   "outputs": [
    {
     "name": "stdout",
     "output_type": "stream",
     "text": [
      "[[0.66498469 1.         0.71233032]\n",
      " [0.60665955 0.28534274 0.89492546]\n",
      " [0.59628702 0.         0.58382453]]\n"
     ]
    }
   ],
   "source": [
    "# Exercise 31\n",
    "a31 = np.random.rand(3, 3) * 100\n",
    "normalized = (a31 - np.min(a31)) / (np.max(a31) - np.min(a31))\n",
    "print(normalized)"
   ]
  },
  {
   "cell_type": "markdown",
   "id": "d3eeceaa",
   "metadata": {},
   "source": [
    "\n",
    "---\n",
    "\n",
    "### Exercise 32:\n",
    "Create two NumPy arrays and find the dot product.\n"
   ]
  },
  {
   "cell_type": "code",
   "execution_count": 95,
   "id": "5722e16b",
   "metadata": {},
   "outputs": [
    {
     "name": "stdout",
     "output_type": "stream",
     "text": [
      "Dot Product: 32\n"
     ]
    }
   ],
   "source": [
    "# Exercise 32\n",
    "a32 = np.array([1, 2, 3])\n",
    "b32 = np.array([4, 5, 6])\n",
    "dot_product = np.dot(a32, b32)\n",
    "print(\"Dot Product:\", dot_product)"
   ]
  },
  {
   "cell_type": "markdown",
   "id": "5b0c848f",
   "metadata": {},
   "source": [
    "\n",
    "---\n",
    "\n",
    "### Exercise 33:\n",
    "Find the trace of a square NumPy matrix.\n"
   ]
  },
  {
   "cell_type": "code",
   "execution_count": 97,
   "id": "6d6e90c2",
   "metadata": {},
   "outputs": [
    {
     "name": "stdout",
     "output_type": "stream",
     "text": [
      "Trace: 5\n"
     ]
    }
   ],
   "source": [
    "# Exercise 33\n",
    "a33 = np.array([[1, 2], [3, 4]])\n",
    "trace = np.trace(a33)\n",
    "print(\"Trace:\", trace)"
   ]
  },
  {
   "cell_type": "markdown",
   "id": "74f1f77e",
   "metadata": {},
   "source": [
    "\n",
    "---\n",
    "\n",
    "### Exercise 34:\n",
    "Create a 2D array and swap two rows.\n"
   ]
  },
  {
   "cell_type": "code",
   "execution_count": 99,
   "id": "24621129",
   "metadata": {},
   "outputs": [
    {
     "name": "stdout",
     "output_type": "stream",
     "text": [
      "[[3 4]\n",
      " [1 2]]\n"
     ]
    }
   ],
   "source": [
    "# Exercise 34\n",
    "a34 = np.array([[1, 2], [3, 4]])\n",
    "a34[[0, 1]] = a34[[1, 0]]\n",
    "print(a34)"
   ]
  },
  {
   "cell_type": "markdown",
   "id": "7875d348",
   "metadata": {},
   "source": [
    "\n",
    "---\n",
    "\n",
    "### Exercise 35:\n",
    "Create a 1D NumPy array and convert it into a column vector.\n"
   ]
  },
  {
   "cell_type": "code",
   "execution_count": 101,
   "id": "0039acda",
   "metadata": {},
   "outputs": [
    {
     "name": "stdout",
     "output_type": "stream",
     "text": [
      "[[1]\n",
      " [2]\n",
      " [3]]\n"
     ]
    }
   ],
   "source": [
    "# Exercise 35\n",
    "a35 = np.array([1, 2, 3])\n",
    "column_vector = a35.reshape(-1, 1)\n",
    "print(column_vector)"
   ]
  },
  {
   "cell_type": "markdown",
   "id": "234e605c",
   "metadata": {},
   "source": [
    "\n",
    "---\n",
    "\n",
    "### Exercise 36:\n",
    "Find the determinant of a 3x3 matrix.\n"
   ]
  },
  {
   "cell_type": "code",
   "execution_count": 103,
   "id": "9798d9c7",
   "metadata": {},
   "outputs": [
    {
     "name": "stdout",
     "output_type": "stream",
     "text": [
      "Determinant: 0.9999999999999987\n"
     ]
    }
   ],
   "source": [
    "# Exercise 36\n",
    "a36 = np.array([[1, 2, 3], [0, 1, 4], [5, 6, 0]])\n",
    "det = np.linalg.det(a36)\n",
    "print(\"Determinant:\", det)"
   ]
  },
  {
   "cell_type": "markdown",
   "id": "6656af00",
   "metadata": {},
   "source": [
    "\n",
    "---\n",
    "\n",
    "### Exercise 37:\n",
    "Find the eigenvalues and eigenvectors of a 2x2 matrix.\n"
   ]
  },
  {
   "cell_type": "code",
   "execution_count": 105,
   "id": "89d64421",
   "metadata": {},
   "outputs": [
    {
     "name": "stdout",
     "output_type": "stream",
     "text": [
      "Eigenvalues: [2. 3.]\n",
      "Eigenvectors:\n",
      " [[1. 0.]\n",
      " [0. 1.]]\n"
     ]
    }
   ],
   "source": [
    "# Exercise 37\n",
    "a37 = np.array([[2, 0], [0, 3]])\n",
    "eigenvalues, eigenvectors = np.linalg.eig(a37)\n",
    "print(\"Eigenvalues:\", eigenvalues)\n",
    "print(\"Eigenvectors:\\n\", eigenvectors)"
   ]
  },
  {
   "cell_type": "markdown",
   "id": "7dc92bbb",
   "metadata": {},
   "source": [
    "\n",
    "---\n",
    "\n",
    "### Exercise 38:\n",
    "Solve a system of linear equations using NumPy.\n"
   ]
  },
  {
   "cell_type": "code",
   "execution_count": 107,
   "id": "9aad2d7e",
   "metadata": {},
   "outputs": [
    {
     "name": "stdout",
     "output_type": "stream",
     "text": [
      "Solution: [2. 1.]\n"
     ]
    }
   ],
   "source": [
    "# Exercise 38\n",
    "# 2x + y = 5, 4x + 3y = 11\n",
    "A = np.array([[2, 1], [4, 3]])\n",
    "B = np.array([5, 11])\n",
    "solution = np.linalg.solve(A, B)\n",
    "print(\"Solution:\", solution)"
   ]
  },
  {
   "cell_type": "markdown",
   "id": "4f146ae7",
   "metadata": {},
   "source": [
    "\n",
    "---\n",
    "\n",
    "### Exercise 39:\n",
    "Add Gaussian noise to a NumPy array.\n"
   ]
  },
  {
   "cell_type": "code",
   "execution_count": 109,
   "id": "1162c82d",
   "metadata": {},
   "outputs": [
    {
     "name": "stdout",
     "output_type": "stream",
     "text": [
      "[ 9.34025512 19.60684724 30.05830829]\n"
     ]
    }
   ],
   "source": [
    "# Exercise 39\n",
    "a39 = np.array([10, 20, 30])\n",
    "noise = np.random.normal(0, 1, a39.shape)\n",
    "noisy_array = a39 + noise\n",
    "print(noisy_array)"
   ]
  },
  {
   "cell_type": "markdown",
   "id": "24f6d12f",
   "metadata": {},
   "source": [
    "\n",
    "---\n",
    "\n",
    "### Exercise 40:\n",
    "Create a 4x4 matrix and extract the diagonal elements.\n"
   ]
  },
  {
   "cell_type": "code",
   "execution_count": 111,
   "id": "228d823c",
   "metadata": {},
   "outputs": [
    {
     "name": "stdout",
     "output_type": "stream",
     "text": [
      "[ 1  6 11 16]\n"
     ]
    }
   ],
   "source": [
    "# Exercise 40\n",
    "a40 = np.array([[1, 2, 3, 4],\n",
    "                [5, 6, 7, 8],\n",
    "                [9, 10, 11, 12],\n",
    "                [13, 14, 15, 16]])\n",
    "diagonal = np.diag(a40)\n",
    "print(diagonal)"
   ]
  },
  {
   "cell_type": "markdown",
   "id": "6fe4e0e1",
   "metadata": {},
   "source": [
    "\n",
    "---\n",
    "\n",
    "### Exercise 41:\n",
    "Generate a NumPy array of 100 random values and clip the values to a range between 10 and 50.\n"
   ]
  },
  {
   "cell_type": "code",
   "execution_count": 115,
   "id": "71642264-fad4-44b6-89dc-4f05f9bdc9ab",
   "metadata": {},
   "outputs": [],
   "source": [
    "import numpy as np\n",
    "from scipy.spatial.distance import pdist, squareform"
   ]
  },
  {
   "cell_type": "code",
   "execution_count": 119,
   "id": "250c818c",
   "metadata": {},
   "outputs": [
    {
     "name": "stdout",
     "output_type": "stream",
     "text": [
      "[50 50 15 10 31 50 21 50 15 10 27 45 38 50 50 10 28 16 31 50 39 24 45 41\n",
      " 39 50 10 50 10 40 50 22 24 50 50 50 26 50 22 50 17 50 50 50 50 30 33 16\n",
      " 50 10 32 32 33 21 10 19 17 50 50 21 50 19 10 37 50 50 50 50 50 31 29 42\n",
      " 50 40 24 24 22 50 25 37 10 10 50 50 50 26 50 10 44 14 17 50 50 50 46 50\n",
      " 36 21 50 50]\n"
     ]
    }
   ],
   "source": [
    "# Exercise 41\n",
    "a41 = np.random.randint(0, 100, 100)\n",
    "clipped = np.clip(a41, 10, 50)\n",
    "print(clipped)"
   ]
  },
  {
   "cell_type": "markdown",
   "id": "0aa4963a",
   "metadata": {},
   "source": [
    "\n",
    "---\n",
    "\n",
    "### Exercise 42:\n",
    "Create a 2D NumPy array and replace all negative values with zero.\n"
   ]
  },
  {
   "cell_type": "code",
   "execution_count": 121,
   "id": "c33cf5e2",
   "metadata": {},
   "outputs": [
    {
     "name": "stdout",
     "output_type": "stream",
     "text": [
      "[[8 4 0]\n",
      " [0 2 0]\n",
      " [6 0 0]]\n"
     ]
    }
   ],
   "source": [
    "# Exercise 42\n",
    "a42 = np.random.randint(-10, 10, (3, 3))\n",
    "a42[a42 < 0] = 0\n",
    "print(a42)"
   ]
  },
  {
   "cell_type": "markdown",
   "id": "9902ee70",
   "metadata": {},
   "source": [
    "\n",
    "---\n",
    "\n",
    "### Exercise 43:\n",
    "Find the inner and outer products of two NumPy arrays.\n"
   ]
  },
  {
   "cell_type": "code",
   "execution_count": 123,
   "id": "36f488c8",
   "metadata": {},
   "outputs": [
    {
     "name": "stdout",
     "output_type": "stream",
     "text": [
      "Inner: 11\n",
      "Outer:\n",
      " [[3 4]\n",
      " [6 8]]\n"
     ]
    }
   ],
   "source": [
    "# Exercise 43\n",
    "a43 = np.array([1, 2])\n",
    "b43 = np.array([3, 4])\n",
    "inner = np.inner(a43, b43)\n",
    "outer = np.outer(a43, b43)\n",
    "print(\"Inner:\", inner)\n",
    "print(\"Outer:\\n\", outer)"
   ]
  },
  {
   "cell_type": "markdown",
   "id": "7dce9fa3",
   "metadata": {},
   "source": [
    "\n",
    "---\n",
    "\n",
    "### Exercise 44:\n",
    "Calculate the pairwise distances between points in a NumPy array.\n"
   ]
  },
  {
   "cell_type": "code",
   "execution_count": 125,
   "id": "94067655",
   "metadata": {},
   "outputs": [
    {
     "name": "stdout",
     "output_type": "stream",
     "text": [
      "[[0.         0.37406908 0.33635789 0.3375074 ]\n",
      " [0.37406908 0.         0.53037233 0.38308719]\n",
      " [0.33635789 0.53037233 0.         0.66495868]\n",
      " [0.3375074  0.38308719 0.66495868 0.        ]]\n"
     ]
    }
   ],
   "source": [
    "# Exercise 44\n",
    "points = np.random.rand(4, 2)  # 4 points in 2D\n",
    "distances = squareform(pdist(points))\n",
    "print(distances)"
   ]
  },
  {
   "cell_type": "markdown",
   "id": "d4b272d3",
   "metadata": {},
   "source": [
    "\n",
    "---\n",
    "\n",
    "### Exercise 45:\n",
    "Create a structured NumPy array with fields for `name`, `age`, and `height`.\n"
   ]
  },
  {
   "cell_type": "code",
   "execution_count": 127,
   "id": "9b18e4f0",
   "metadata": {},
   "outputs": [
    {
     "name": "stdout",
     "output_type": "stream",
     "text": [
      "[('Alice', 25, 5.5) ('Bob', 30, 6. )]\n"
     ]
    }
   ],
   "source": [
    "# Exercise 45\n",
    "a45 = np.array([('Alice', 25, 5.5), ('Bob', 30, 6.0)],\n",
    "               dtype=[('name', 'U10'), ('age', 'i4'), ('height', 'f4')])\n",
    "print(a45)"
   ]
  },
  {
   "cell_type": "markdown",
   "id": "577f3e80",
   "metadata": {},
   "source": [
    "\n",
    "---\n",
    "\n",
    "### Exercise 46:\n",
    "Create a 5x5 matrix of random integers and count the occurrences of each unique value.\n"
   ]
  },
  {
   "cell_type": "code",
   "execution_count": 129,
   "id": "639b01fd",
   "metadata": {},
   "outputs": [
    {
     "name": "stdout",
     "output_type": "stream",
     "text": [
      "Matrix:\n",
      " [[2 3 2 4 2]\n",
      " [2 0 2 4 2]\n",
      " [0 0 0 3 2]\n",
      " [2 3 0 4 4]\n",
      " [0 2 0 2 2]]\n",
      "Counts: {0: 7, 2: 11, 3: 3, 4: 4}\n"
     ]
    }
   ],
   "source": [
    "# Exercise 46\n",
    "a46 = np.random.randint(0, 5, (5, 5))\n",
    "unique, counts = np.unique(a46, return_counts=True)\n",
    "print(\"Matrix:\\n\", a46)\n",
    "print(\"Counts:\", dict(zip(unique, counts)))"
   ]
  },
  {
   "cell_type": "markdown",
   "id": "e716555f",
   "metadata": {},
   "source": [
    "\n",
    "---\n",
    "\n",
    "### Exercise 47:\n",
    "Generate a random 3x3 NumPy array and subtract the mean of each row from the corresponding row.\n"
   ]
  },
  {
   "cell_type": "code",
   "execution_count": 131,
   "id": "03747d27",
   "metadata": {},
   "outputs": [
    {
     "name": "stdout",
     "output_type": "stream",
     "text": [
      "\n",
      "Exercise 47:\n",
      " [[-0.02460089  0.15794924 -0.13334835]\n",
      " [ 0.06319414 -0.19183827  0.12864412]\n",
      " [-0.06398709  0.42649651 -0.36250943]]\n"
     ]
    }
   ],
   "source": [
    "# Exercise 47\n",
    "a47 = np.random.rand(3, 3)\n",
    "a47_mean_subtracted = a47 - a47.mean(axis=1, keepdims=True)\n",
    "print(\"\\nExercise 47:\\n\", a47_mean_subtracted)"
   ]
  },
  {
   "cell_type": "markdown",
   "id": "89148fb1",
   "metadata": {},
   "source": [
    "\n",
    "---\n",
    "\n",
    "### Exercise 48:\n",
    "Create a NumPy array of random integers and check if any of the values are greater than 50.\n"
   ]
  },
  {
   "cell_type": "code",
   "execution_count": null,
   "id": "d329ca63",
   "metadata": {},
   "outputs": [],
   "source": [
    "# Exercise 48"
   ]
  },
  {
   "cell_type": "markdown",
   "id": "806622f5",
   "metadata": {},
   "source": [
    "\n",
    "---\n",
    "\n",
    "### Exercise 49:\n",
    "Calculate the moving average of a 1D NumPy array.\n"
   ]
  },
  {
   "cell_type": "code",
   "execution_count": null,
   "id": "866232ff",
   "metadata": {},
   "outputs": [],
   "source": [
    "# Exercise 49"
   ]
  },
  {
   "cell_type": "markdown",
   "id": "9313446b",
   "metadata": {},
   "source": [
    "\n",
    "---\n",
    "\n",
    "### Exercise 50:\n",
    "Find the Pearson correlation coefficient between two NumPy arrays.\n"
   ]
  },
  {
   "cell_type": "code",
   "execution_count": null,
   "id": "09c184ab",
   "metadata": {},
   "outputs": [],
   "source": [
    "# Exercise 50"
   ]
  },
  {
   "cell_type": "markdown",
   "id": "8ee11395",
   "metadata": {},
   "source": [
    "\n",
    "---\n",
    "\n",
    "### Exercise 51:\n",
    "Convert a NumPy array of radians to degrees.\n"
   ]
  },
  {
   "cell_type": "code",
   "execution_count": null,
   "id": "34ac5b8c",
   "metadata": {},
   "outputs": [],
   "source": [
    "# Exercise 51"
   ]
  },
  {
   "cell_type": "markdown",
   "id": "f4fd9563",
   "metadata": {},
   "source": [
    "\n",
    "---\n",
    "\n",
    "### Exercise 52:\n",
    "Create a random NumPy array and compute its variance and standard deviation.\n"
   ]
  },
  {
   "cell_type": "code",
   "execution_count": null,
   "id": "0559791a",
   "metadata": {},
   "outputs": [],
   "source": [
    "# Exercise 52"
   ]
  },
  {
   "cell_type": "markdown",
   "id": "b5bed93d",
   "metadata": {},
   "source": [
    "\n",
    "---\n",
    "\n",
    "### Exercise 53:\n",
    "Create a 2D NumPy array and find the indices of the maximum values along each axis.\n"
   ]
  },
  {
   "cell_type": "code",
   "execution_count": null,
   "id": "37168529",
   "metadata": {},
   "outputs": [],
   "source": [
    "# Exercise 53"
   ]
  },
  {
   "cell_type": "markdown",
   "id": "fd672293",
   "metadata": {},
   "source": [
    "\n",
    "---\n",
    "\n",
    "### Exercise 54:\n",
    "Compute the inverse of a 2x2 NumPy matrix.\n"
   ]
  },
  {
   "cell_type": "code",
   "execution_count": null,
   "id": "d9eebfee",
   "metadata": {},
   "outputs": [],
   "source": [
    "# Exercise 54"
   ]
  },
  {
   "cell_type": "markdown",
   "id": "d635d87b",
   "metadata": {},
   "source": [
    "\n",
    "---\n",
    "\n",
    "### Exercise 55:\n",
    "Create a NumPy array of 10 random values and standardize it (mean 0, variance 1).\n"
   ]
  },
  {
   "cell_type": "code",
   "execution_count": null,
   "id": "dc8ffa7d",
   "metadata": {},
   "outputs": [],
   "source": [
    "# Exercise 55"
   ]
  },
  {
   "cell_type": "markdown",
   "id": "6db1e281",
   "metadata": {},
   "source": [
    "\n",
    "---\n",
    "\n",
    "### Exercise 56:\n",
    "Perform element-wise addition and subtraction on two NumPy arrays.\n"
   ]
  },
  {
   "cell_type": "code",
   "execution_count": null,
   "id": "e8d4d852",
   "metadata": {},
   "outputs": [],
   "source": [
    "# Exercise 56"
   ]
  },
  {
   "cell_type": "markdown",
   "id": "843ba956",
   "metadata": {},
   "source": [
    "\n",
    "---\n",
    "\n",
    "### Exercise 57:\n",
    "Create a NumPy array of random values and find the maximum element's index.\n"
   ]
  },
  {
   "cell_type": "code",
   "execution_count": null,
   "id": "e4cbc318",
   "metadata": {},
   "outputs": [],
   "source": [
    "# Exercise 57"
   ]
  },
  {
   "cell_type": "markdown",
   "id": "e8356250",
   "metadata": {},
   "source": [
    "\n",
    "---\n",
    "\n",
    "### Exercise 58:\n",
    "Create a 3x3 NumPy array and rotate it by 90 degrees.\n"
   ]
  },
  {
   "cell_type": "code",
   "execution_count": null,
   "id": "f80c6616",
   "metadata": {},
   "outputs": [],
   "source": [
    "# Exercise 58"
   ]
  },
  {
   "cell_type": "markdown",
   "id": "5bdbf96d",
   "metadata": {},
   "source": [
    "\n",
    "---\n",
    "\n",
    "### Exercise 59:\n",
    "Compute the Frobenius norm of a matrix.\n"
   ]
  },
  {
   "cell_type": "code",
   "execution_count": null,
   "id": "bb81b41a",
   "metadata": {},
   "outputs": [],
   "source": [
    "# Exercise 59"
   ]
  },
  {
   "cell_type": "markdown",
   "id": "9388b0db",
   "metadata": {},
   "source": [
    "\n",
    "---\n",
    "\n",
    "### Exercise 60:\n",
    "Create a 3D NumPy array and slice out a subarray.\n"
   ]
  },
  {
   "cell_type": "code",
   "execution_count": null,
   "id": "f051d3a2",
   "metadata": {},
   "outputs": [],
   "source": [
    "# Exercise 60"
   ]
  },
  {
   "cell_type": "markdown",
   "id": "9cb79001",
   "metadata": {},
   "source": [
    "\n",
    "---"
   ]
  }
 ],
 "metadata": {
  "kernelspec": {
   "display_name": "Python [conda env:base] *",
   "language": "python",
   "name": "conda-base-py"
  },
  "language_info": {
   "codemirror_mode": {
    "name": "ipython",
    "version": 3
   },
   "file_extension": ".py",
   "mimetype": "text/x-python",
   "name": "python",
   "nbconvert_exporter": "python",
   "pygments_lexer": "ipython3",
   "version": "3.12.7"
  }
 },
 "nbformat": 4,
 "nbformat_minor": 5
}
